{
 "cells": [
  {
   "cell_type": "code",
   "execution_count": 2,
   "id": "a9cf9d57",
   "metadata": {},
   "outputs": [
    {
     "name": "stdout",
     "output_type": "stream",
     "text": [
      "Requirement already satisfied: jieba in c:\\users\\user\\anaconda3\\envs\\py38\\lib\\site-packages (0.42.1)\n",
      "Note: you may need to restart the kernel to use updated packages.\n"
     ]
    }
   ],
   "source": [
    "pip install jieba"
   ]
  },
  {
   "cell_type": "code",
   "execution_count": 3,
   "id": "7505cb90",
   "metadata": {},
   "outputs": [],
   "source": [
    "import requests\n",
    "from bs4 import BeautifulSoup"
   ]
  },
  {
   "cell_type": "markdown",
   "id": "f7550153",
   "metadata": {},
   "source": [
    "得出文章連結"
   ]
  },
  {
   "cell_type": "code",
   "execution_count": 4,
   "id": "20a689ae",
   "metadata": {},
   "outputs": [],
   "source": [
    "a = []\n",
    "def tag(x):\n",
    "    r = requests.get(x,cookies = {'over18':'1'})\n",
    "    soup = BeautifulSoup(r.text,\"html.parser\")\n",
    "    sel = soup.select(\"div.title a\")\n",
    "    for s in sel:\n",
    "        a.append(s[\"href\"])\n",
    "        print(s[\"href\"], s.text)  "
   ]
  },
  {
   "cell_type": "markdown",
   "id": "ff9acecd",
   "metadata": {},
   "source": [
    "得出文章內容"
   ]
  },
  {
   "cell_type": "code",
   "execution_count": 5,
   "id": "d1b6f4f4",
   "metadata": {},
   "outputs": [],
   "source": [
    "import requests \n",
    "# 導入 BeautifulSoup 模組(module)：解析HTML 語法工具\n",
    "import bs4\n",
    "content1 = []\n",
    "def text(y):\n",
    "    # 文章連結\n",
    "    URL = y\n",
    "\n",
    "    # 設定Header與Cookie\n",
    "    my_headers = {'cookie': 'over18=1;'}\n",
    "\n",
    "    # 發送get 請求 到 ptt 八卦版\n",
    "    response = requests.get(URL, headers = my_headers)\n",
    "\n",
    "\n",
    "    #  把網頁程式碼(HTML) 丟入 bs4模組分析\n",
    "    soup = bs4.BeautifulSoup(response.text,\"html.parser\")\n",
    "\n",
    "\n",
    "    main_container = soup.find(id='main-container')\n",
    "    # 把所有文字都抓出來\n",
    "    all_text = main_container.text\n",
    "    # 把整個內容切割透過 \"-- \" 切割成2個陣列\n",
    "    pre_text = all_text.split('--')[0]\n",
    "    \n",
    "    # 把每段文字 根據 '\\n' 切開\n",
    "    texts = pre_text.split('\\n')\n",
    "    # 如果你爬多篇你會發現 \n",
    "    contents = texts[2:]\n",
    "    # 內容\n",
    "    content = '\\n'.join(contents)\n",
    "    content1.append(content)\n",
    "    return content1"
   ]
  },
  {
   "cell_type": "markdown",
   "id": "09f99a71",
   "metadata": {},
   "source": [
    "ptt 關鍵字:新冠"
   ]
  },
  {
   "cell_type": "code",
   "execution_count": 6,
   "id": "3b56d289",
   "metadata": {},
   "outputs": [
    {
     "name": "stdout",
     "output_type": "stream",
     "text": [
      "/bbs/MobileComm/M.1588495282.A.C95.html [新聞] 高通：受新冠疫情影響 第三季智慧機出貨\n",
      "/bbs/MobileComm/M.1583133445.A.66B.html [新聞] WHO開啟抖音官方帳號 宣導新冠肺炎防疫\n",
      "/bbs/MobileComm/M.1582993764.A.164.html Re: [新聞] 新冠病毒藏2小時？醫師建議「洗」手機不\n",
      "/bbs/MobileComm/M.1582969341.A.5EB.html [新聞] 新冠病毒藏2小時？醫師建議「洗」手機不\n",
      "/bbs/MobileComm/M.1582528006.A.7CE.html [新聞]新冠狀病毒將2020年手機升級需求延遲，且 \n",
      "/bbs/MobileComm/M.1581989293.A.3AE.html [新聞] 蘋果發布預警：新冠疫情將衝擊iPhone供\n"
     ]
    }
   ],
   "source": [
    "tag(x = \"https://www.ptt.cc/bbs/MobileComm/search?q=%E6%96%B0%E5%86%A0\")"
   ]
  },
  {
   "cell_type": "markdown",
   "id": "783f7ebe",
   "metadata": {},
   "source": [
    "ptt 關鍵字:疫情 "
   ]
  },
  {
   "cell_type": "code",
   "execution_count": 7,
   "id": "dbaa840a",
   "metadata": {},
   "outputs": [
    {
     "name": "stdout",
     "output_type": "stream",
     "text": [
      "/bbs/MobileComm/M.1654573560.A.957.html [問題] 因疫情卡片所有人卡在中國 資費到期怎麼\n",
      "/bbs/MobileComm/M.1629302213.A.7E9.html Re: [問題] 疫情過後，廠商們還會重視平板嗎?\n",
      "/bbs/MobileComm/M.1628997238.A.60F.html Re: [問題] 疫情過後，廠商們還會重視平板嗎?\n",
      "/bbs/MobileComm/M.1628995118.A.BB2.html [問題] 疫情過後，廠商們還會重視平板嗎?\n",
      "/bbs/MobileComm/M.1624358481.A.48D.html [新聞] 疫情促銷出新招！vivo 推新機免費宅配體\n",
      "/bbs/MobileComm/M.1620960103.A.CF4.html Re: [討論] 疫情升溫，推薦下載「臺灣社交距離」APP\n",
      "/bbs/MobileComm/M.1620810239.A.73D.html Re: [討論] 疫情升溫，推薦下載「臺灣社交距離」APP\n",
      "/bbs/MobileComm/M.1620751863.A.EE3.html Re: [討論] 疫情升溫，推薦下載「臺灣社交距離」APP\n",
      "/bbs/MobileComm/M.1620729370.A.5CD.html Re: [討論] 疫情升溫，推薦下載「臺灣社交距離」APP\n",
      "/bbs/MobileComm/M.1620714902.A.936.html [討論] 疫情升溫，推薦下載「臺灣社交距離」APP\n",
      "/bbs/MobileComm/M.1607930001.A.9EF.html [問題] 疫情回台灣  wfh網路\n",
      "/bbs/MobileComm/M.1601906865.A.9C5.html Re: [新聞] 疫情間「最賺錢」手機品牌出爐！第一名吃\n",
      "/bbs/MobileComm/M.1601888297.A.440.html Re: [新聞] 疫情間「最賺錢」手機品牌出爐！第一名吃\n",
      "/bbs/MobileComm/M.1601876148.A.289.html Re: [新聞] 疫情間「最賺錢」手機品牌出爐！第一名吃\n",
      "/bbs/MobileComm/M.1601688806.A.92E.html [新聞] 疫情間「最賺錢」手機品牌出爐！第一名吃\n",
      "/bbs/MobileComm/M.1598522216.A.363.html [新聞] 疫情干擾第2季手機產量受挫 下半年靠5G加\n",
      "/bbs/MobileComm/M.1590466956.A.583.html [新聞] 蘋果、Google 如何用手機「追蹤疫情接觸\n",
      "/bbs/MobileComm/M.1588510475.A.E3B.html [新聞] 5G手機不畏疫情Q1出貨量大增 三星市佔第1\n",
      "/bbs/MobileComm/M.1588495282.A.C95.html [新聞] 高通：受新冠疫情影響 第三季智慧機出貨\n",
      "/bbs/MobileComm/M.1588404970.A.B83.html [新聞] 疫情干擾台灣手機市場 下半年迎2大利多\n"
     ]
    }
   ],
   "source": [
    "tag(x = \"https://www.ptt.cc/bbs/MobileComm/search?q=%E7%96%AB%E6%83%85\")"
   ]
  },
  {
   "cell_type": "markdown",
   "id": "d73db815",
   "metadata": {},
   "source": [
    "ptt 關鍵字:確診 "
   ]
  },
  {
   "cell_type": "code",
   "execution_count": 8,
   "id": "caa70512",
   "metadata": {},
   "outputs": [
    {
     "name": "stdout",
     "output_type": "stream",
     "text": [
      "/bbs/Gossiping/M.1671245032.A.8E1.html [問卦] 北京或80%確診\n",
      "/bbs/Gossiping/M.1671234959.A.5A9.html Re: [新聞] 「鄭運鵬確診」是假的！調查局疑中國網\n",
      "/bbs/Gossiping/M.1671211405.A.5CF.html Re: [新聞] 「鄭運鵬確診」是假的！調查局疑中國網\n",
      "/bbs/Gossiping/M.1671210784.A.AD9.html Re: [新聞] 「鄭運鵬確診」是假的！調查局疑中國網\n",
      "/bbs/Gossiping/M.1671210441.A.837.html [新聞] 「鄭運鵬確診」是假的！調查局疑中國網\n",
      "/bbs/Gossiping/M.1671175347.A.FF3.html [新聞] 王鴻薇確診後　吳怡農獲邀合照「不脫口罩\n",
      "/bbs/Gossiping/M.1671118442.A.C76.html [問卦] 中國大量確診沒人關心了嗎？\n",
      "/bbs/Gossiping/M.1671112609.A.A75.html [新聞] 「辣個男人」要來了！王鴻薇確診咳不停　\n",
      "/bbs/Gossiping/M.1671108397.A.5E8.html [新聞] 簡直李文亮翻版！確診仍被迫連續上班 中\n",
      "/bbs/Gossiping/M.1671096871.A.981.html [問卦] 有人確診兩次過的嗎\n",
      "/bbs/Gossiping/M.1671090855.A.840.html [新聞] 確診後遺症？他染疫後自認「可以跟神明\n",
      "/bbs/Gossiping/M.1671084903.A.C38.html [問卦] 請問確診後吃東西沒味道\n",
      "/bbs/Gossiping/M.1671081582.A.E00.html Re: [問卦]中國解封後確診發燒比台灣嚴重?\n",
      "/bbs/Gossiping/M.1671074234.A.148.html Re: [問卦]中國解封後確診發燒比台灣嚴重?\n",
      "/bbs/Gossiping/M.1671073563.A.26E.html [問卦]中國解封後確診發燒比台灣嚴重?\n",
      "/bbs/Gossiping/M.1671073423.A.A11.html [問卦] 中國人會注意幼兒確診腦膜炎嗎？\n",
      "/bbs/Gossiping/M.1671061595.A.2F9.html [新聞] 王鴻薇凌晨自曝確診！今起暫停拜票行程\n",
      "/bbs/Gossiping/M.1671035536.A.624.html Re: [新聞] 北京武漢醫院爆滿 大批醫護感染 確診醫生\n",
      "/bbs/Gossiping/M.1671030450.A.6C5.html [問卦] 為什麼現在不用猜確診數了\n",
      "/bbs/Gossiping/M.1671024399.A.21E.html [問卦] 要是迪麗熱巴確診了該怎麼辦\n"
     ]
    }
   ],
   "source": [
    "tag(x = \"https://www.ptt.cc/bbs/Gossiping/search?q=%E7%A2%BA%E8%A8%BA\")"
   ]
  },
  {
   "cell_type": "code",
   "execution_count": 9,
   "id": "0a3f0cff",
   "metadata": {},
   "outputs": [],
   "source": [
    "for i in range(46):\n",
    "    text(y = \"https://www.ptt.cc\" + a[i])"
   ]
  },
  {
   "cell_type": "code",
   "execution_count": 10,
   "id": "6781e73d",
   "metadata": {
    "scrolled": true
   },
   "outputs": [
    {
     "data": {
      "text/plain": [
       "'高通：受新冠疫情影響 第三季智慧機出貨量將減30％\\n\\n16:51 2020/05/02 中時電子報 趙永紝\\n\\n高通日前發佈了2020財年第二財季財報，他們表示，因新冠疫情緣故，智慧手機行業第\\n三季度手機出貨量將減少30%，但在2020年，市場仍會對5G智慧手機保持強勁需求。\\n\\n高通是全球最大的智慧手機晶片供應商，作為蘋果和三星等科技巨頭，以及大多數手機\\n廠商的重要供應鏈合作夥伴，他們對智慧手機市場的預期比較重要。\\n\\n該公週三公佈了其對第二季度出貨量預期的下調，此前，也是因為冠狀病毒緣故，今年\\n前三個月，智慧手機需求下降了21%。高通公司在2020年第二季度售出了1.29億顆基頻\\n晶片，預計第三季度將售出1.25到1.45億之間。\\n\\n此前人們普遍預期，由於5G時代的到來（如蘋果傳聞的iPhone 12系列）的推出，2020\\n年對於智慧手機行業將是需求強勁的一年。但是，突發而來的新冠疫情讓這些計劃陷入\\n困境，並可能使未來的需求疲軟。高通公司最初預計到2020年將出貨約1750億至1850億\\n顆基頻晶片（總量），但不再提供總的市場預測。\\n\\n儘管如此，這家晶片製造商仍表示，預計廠商們今年將出貨1.75億至2.25億部5G智慧手\\n機。這與新冠疫情之前做出的估計是一致的，但是像Strategy Analytics這樣的分析機\\n構仍預計2020年5G出貨量將低於最初的預期。\\n\\n目前，所謂的「iPhone 12」似乎有望在秋季發佈。不過有分析認為新冠疫情之後經濟\\n復甦狀態可能會導致需求低於預期。\\n\\n文章來源：新浪科技\\nhttps://tech.sina.com.cn/mobile/n/n/2020-04-30/doc-iirczymi9144229.shtml\\nhttps://www.chinatimes.com/realtimenews/20200502000015-260410?chdtv\\n\\n心得：\\n上半年來講疫情的影響確實是非常嚴重，而高通認為已經到第三季的情況還會受疫情影響\\n不過今年來講越來越多市場啟用5G，台灣也將會在下半年開台\\n只要疫情有結束的一天出貨量往後的銷售量應該還是值得樂觀\\n只是不知道還有多久\\n\\n'"
      ]
     },
     "execution_count": 10,
     "metadata": {},
     "output_type": "execute_result"
    }
   ],
   "source": [
    "content1[0]"
   ]
  },
  {
   "cell_type": "markdown",
   "id": "2c3fc9b6",
   "metadata": {},
   "source": [
    "計算分篇文章分數"
   ]
  },
  {
   "cell_type": "code",
   "execution_count": 31,
   "id": "bf8d0754",
   "metadata": {},
   "outputs": [
    {
     "name": "stdout",
     "output_type": "stream",
     "text": [
      "T u e   D e c   2 0   2 0 : 3 6 : 5 6   2 0 2 2\n",
      "S a t   D e c   1 7   0 1 : 2 3 : 2 2   2 0 2 2\n",
      "S a t   D e c   1 7   0 1 : 0 7 : 1 9   2 0 2 2\n",
      "T h u   D e c   1 5   2 1 : 5 6 : 4 6   2 0 2 2\n",
      "T h u   D e c   1 5   0 7 : 4 6 : 3 2   2 0 2 2\n",
      "W e d   D e c   1 4   2 3 : 0 7 : 2 8   2 0 2 2\n",
      "W e d   D e c   1 4   1 8 : 2 9 : 5 6   2 0 2 2\n",
      "M o n   D e c   1 2   1 7 : 2 8 : 2 8   2 0 2 2\n",
      "M o n   D e c   1 2   1 7 : 1 7 : 1 5   2 0 2 2\n",
      "M o n   D e c   1 2   1 3 : 1 4 : 3 2   2 0 2 2\n"
     ]
    },
    {
     "data": {
      "image/png": "[encoded data removed]",
      "text/plain": [
       "<Figure size 432x288 with 1 Axes>"
      ]
     },
     "metadata": {
      "needs_background": "light"
     },
     "output_type": "display_data"
    }
   ],
   "source": [
    "import bs4\n",
    "import requests\n",
    "from bs4 import BeautifulSoup\n",
    "import re\n",
    "import jieba\n",
    "t = []\n",
    "def tag(x):\n",
    "    r = requests.get(x,cookies = {'over18':'1'})\n",
    "    soup = BeautifulSoup(r.text,\"html.parser\")\n",
    "    sel = soup.select(\"div.title a\")\n",
    "    for s in sel:\n",
    "        t.append(s[\"href\"])\n",
    "        #print(s[\"href\"], s.text)          \n",
    "\n",
    "content1 = []\n",
    "date1 = []\n",
    "def text(y):\n",
    "\n",
    "    URL = y\n",
    "\n",
    "    my_headers = {'cookie': 'over18=1;'}\n",
    "\n",
    "    response = requests.get(URL, headers = my_headers)\n",
    "\n",
    "    soup = bs4.BeautifulSoup(response.text,\"html.parser\")\n",
    "\n",
    "    header = soup.find_all('span','article-meta-value')\n",
    "    date = header[3].text\n",
    "    dates = ' '.join(date)\n",
    "    date1.append(dates)\n",
    "    \n",
    "    main_container = soup.find(id='main-container')\n",
    "    # 把所有文字都抓出來\n",
    "    all_text = main_container.text\n",
    "    # 把整個內容切割透過 \"-- \" 切割成2個陣列\n",
    "    pre_text = all_text.split('--')[0]\n",
    "    # 把每段文字 根據 '\\n' 切開\n",
    "    texts = pre_text.split('\\n')\n",
    "    # 如果你爬多篇你會發現 \n",
    "    contents = texts[2:]\n",
    "    # 內容\n",
    "    content = '\\n'.join(contents)\n",
    "    content1.append(content)\n",
    "    \n",
    "    return content\n",
    "    \n",
    "\n",
    "\n",
    "def replace_all_blank(value):\n",
    "    \"\"\"\n",
    "    去除value中的所有非字母内容，包括标点符号、空格、换行、下划线等\n",
    "    :param value: 需要处理的内容\n",
    "    :return: 返回处理后的内容\n",
    "    \"\"\"\n",
    "    # \\W 表示匹配非数字字母下划线\n",
    "    result = re.sub('\\W+', '', value).replace(\"_\", '')\n",
    "    #print(result)\n",
    "    return result\n",
    "\n",
    "for i in range(10):\n",
    "        tag(x = \"https://www.ptt.cc/bbs/Gossiping/search?page=\" + str(i) + \"&q=%E7%A2%BA%E8%A8%BA\")\n",
    "\n",
    "        \n",
    "with open(\"C:/Users/User/Downloads/chinese_sentiment-master/chinese_sentiment-master/dict/ntusd-negative.txt\", encoding='utf-8', mode='r') as f:\n",
    "    negative = []\n",
    "    for a in f:\n",
    "        negative.append(a.strip())\n",
    "            \n",
    "with open(\"C:/Users/User/Downloads/chinese_sentiment-master/chinese_sentiment-master/dict/ntusd-positive.txt\", encoding='utf-8', mode='r') as f:\n",
    "    positive = []\n",
    "    for b in f:\n",
    "        positive.append(b.strip())\n",
    "        \n",
    "p = {}\n",
    "n = {}\n",
    "for i in range(50):\n",
    "    test = replace_all_blank(text(y=\"https://www.ptt.cc\" + t[i]))\n",
    "    seg_list = jieba.lcut(test, cut_all=False)\n",
    "    Pscore = 0\n",
    "    Nscore = 0\n",
    "    for w in seg_list:\n",
    "        if w in positive:\n",
    "            Pscore += 1\n",
    "        elif w in negative:\n",
    "            Nscore += 1\n",
    "        else:\n",
    "            pass  \n",
    "    #print(\"POSITIVE總分\",Pscore)  \n",
    "    #print(\"NEGATIVE總分\",Nscore)\n",
    "    if Pscore > Nscore:\n",
    "        print(date1[i])\n",
    "    p[i] = Pscore\n",
    "    n[i] = Nscore\n",
    "    \n",
    "p = list(p.values())\n",
    "n = list(n.values())\n",
    "import matplotlib.pyplot as plt\n",
    "import numpy as np\n",
    "x = np.arange(len(date1))\n",
    "plt.plot(x,p,marker ='.',label = \"positive\")\n",
    "plt.plot(x,n,marker ='.',label = \"negative\")\n",
    "plt.legend()\n",
    "plt.show()\n",
    "\n"
   ]
  },
  {
   "cell_type": "code",
   "execution_count": null,
   "id": "ac3e6429",
   "metadata": {},
   "outputs": [],
   "source": []
  }
 ],
 "metadata": {
  "kernelspec": {
   "display_name": "Python 3 (ipykernel)",
   "language": "python",
   "name": "python3"
  },
  "language_info": {
   "codemirror_mode": {
    "name": "ipython",
    "version": 3
   },
   "file_extension": ".py",
   "mimetype": "text/x-python",
   "name": "python",
   "nbconvert_exporter": "python",
   "pygments_lexer": "ipython3",
   "version": "3.11.5"
  }
 },
 "nbformat": 4,
 "nbformat_minor": 5
}
