{
 "cells": [
  {
   "cell_type": "markdown",
   "id": "dde55f32",
   "metadata": {},
   "source": [
    "計算多篇文章總分"
   ]
  },
  {
   "cell_type": "code",
   "execution_count": 1,
   "id": "315288b5",
   "metadata": {
    "scrolled": false
   },
   "outputs": [
    {
     "name": "stderr",
     "output_type": "stream",
     "text": [
      "Building prefix dict from the default dictionary ...\n",
      "Loading model from cache C:\\Users\\User\\AppData\\Local\\Temp\\jieba.cache\n",
      "Loading model cost 0.471 seconds.\n",
      "Prefix dict has been built successfully.\n"
     ]
    },
    {
     "name": "stdout",
     "output_type": "stream",
     "text": [
      "POSITIVE總分 1130\n",
      "NEGATIVE總分 1663\n"
     ]
    },
    {
     "data": {
      "image/png": "[encoded data removed]",
      "text/plain": [
       "<Figure size 432x288 with 1 Axes>"
      ]
     },
     "metadata": {
      "needs_background": "light"
     },
     "output_type": "display_data"
    }
   ],
   "source": [
    "import bs4\n",
    "import requests\n",
    "from bs4 import BeautifulSoup\n",
    "import re\n",
    "import jieba\n",
    "t = []\n",
    "def tag(x):\n",
    "    r = requests.get(x,cookies = {'over18':'1'})\n",
    "    soup = BeautifulSoup(r.text,\"html.parser\")\n",
    "    sel = soup.select(\"div.title a\")\n",
    "    for s in sel:\n",
    "        t.append(s[\"href\"])\n",
    "        #print(s[\"href\"], s.text)          \n",
    "\n",
    "content1 = []\n",
    "def text(y):\n",
    "\n",
    "    URL = y\n",
    "\n",
    "\n",
    "    my_headers = {'cookie': 'over18=1;'}\n",
    "\n",
    "\n",
    "    response = requests.get(URL, headers = my_headers)\n",
    "\n",
    "\n",
    "   \n",
    "    soup = bs4.BeautifulSoup(response.text,\"html.parser\")\n",
    "\n",
    "\n",
    "    main_container = soup.find(id='main-container')\n",
    "    # 把所有文字都抓出來\n",
    "    all_text = main_container.text\n",
    "    # 把整個內容切割透過 \"-- \" 切割成2個陣列\n",
    "    pre_text = all_text.split('--')[0]\n",
    "    \n",
    "    # 把每段文字 根據 '\\n' 切開\n",
    "    texts = pre_text.split('\\n')\n",
    "    # 如果你爬多篇你會發現 \n",
    "    contents = texts[2:]\n",
    "    # 內容\n",
    "    content = '\\n'.join(contents)\n",
    "    content1.append(content)\n",
    "    return content\n",
    "\n",
    "\n",
    "def replace_all_blank(value):\n",
    "    \"\"\"\n",
    "    去除value中的所有非字母内容，包括标点符号、空格、换行、下划线等\n",
    "    :param value: 需要处理的内容\n",
    "    :return: 返回处理后的内容\n",
    "    \"\"\"\n",
    "    # \\W 表示匹配非数字字母下划线\n",
    "    result = re.sub('\\W+', '', value).replace(\"_\", '')\n",
    "    #print(result)\n",
    "    return result\n",
    "for i in range(50):\n",
    "        tag(x = \"https://www.ptt.cc/bbs/Gossiping/search?page=\" + str(i) + \"&q=%E7%A2%BA%E8%A8%BA\")\n",
    "Pscore = 0\n",
    "Nscore = 0\n",
    "for i in range(200):\n",
    "    test = replace_all_blank(text(y=\"https://www.ptt.cc\" + t[i]))\n",
    "    seg_list = jieba.lcut(test, cut_all=False)\n",
    "\n",
    "    with open(\"C:/Users/User/Downloads/chinese_sentiment-master/chinese_sentiment-master/dict/ntusd-negative.txt\", encoding='utf-8', mode='r') as f:\n",
    "        negative = []\n",
    "        for a in f:\n",
    "            negative.append(a.strip())\n",
    "            \n",
    "    with open(\"C:/Users/User/Downloads/chinese_sentiment-master/chinese_sentiment-master/dict/ntusd-positive.txt\", encoding='utf-8', mode='r') as f:\n",
    "        positive = []\n",
    "        for b in f:\n",
    "            positive.append(b.strip())       \n",
    "    score=0\n",
    "    for w in seg_list:\n",
    "        if w in positive:\n",
    "            Pscore += 1\n",
    "        elif w in negative:\n",
    "            Nscore += 1\n",
    "        else:\n",
    "            pass\n",
    "        \n",
    "print(\"POSITIVE總分\",Pscore)  \n",
    "print(\"NEGATIVE總分\",Nscore)\n",
    "\n",
    "positive = [Pscore]\n",
    "negative = [Nscore]\n",
    "import matplotlib.pyplot as plt\n",
    "\n",
    "plt.title('total')\n",
    "plt.bar('positive', positive)\n",
    "plt.bar('negative', negative)\n",
    "plt.show()"
   ]
  }
 ],
 "metadata": {
  "kernelspec": {
   "display_name": "Python 3 (ipykernel)",
   "language": "python",
   "name": "python3"
  },
  "language_info": {
   "codemirror_mode": {
    "name": "ipython",
    "version": 3
   },
   "file_extension": ".py",
   "mimetype": "text/x-python",
   "name": "python",
   "nbconvert_exporter": "python",
   "pygments_lexer": "ipython3",
   "version": "3.11.5"
  }
 },
 "nbformat": 4,
 "nbformat_minor": 5
}
