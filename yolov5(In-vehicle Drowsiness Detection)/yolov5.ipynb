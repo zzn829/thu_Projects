{
  "nbformat": 4,
  "nbformat_minor": 0,
  "metadata": {
    "colab": {
      "provenance": [],
      "gpuType": "T4"
    },
    "kernelspec": {
      "name": "python3",
      "display_name": "Python 3"
    },
    "language_info": {
      "name": "python"
    },
    "accelerator": "GPU"
  },
  "cells": [
    {
      "cell_type": "code",
      "execution_count": null,
      "metadata": {
        "colab": {
          "base_uri": "https://localhost:8080/",
          "height": 162
        },
        "id": "rOCd7mWjfXgD",
        "outputId": "77826b86-f497-49da-9c87-8b9995116000"
      },
      "outputs": [
        {
          "output_type": "stream",
          "name": "stderr",
          "text": [
            "ERROR:wandb.jupyter:Failed to detect the name of this notebook, you can set it manually with the WANDB_NOTEBOOK_NAME environment variable to enable code saving.\n",
            "\u001b[34m\u001b[1mwandb\u001b[0m: Currently logged in as: \u001b[33msahinwu0114\u001b[0m. Use \u001b[1m`wandb login --relogin`\u001b[0m to force relogin\n"
          ]
        },
        {
          "output_type": "display_data",
          "data": {
            "text/plain": [
              "<IPython.core.display.HTML object>"
            ],
            "text/html": [
              "Tracking run with wandb version 0.16.1"
            ]
          },
          "metadata": {}
        },
        {
          "output_type": "display_data",
          "data": {
            "text/plain": [
              "<IPython.core.display.HTML object>"
            ],
            "text/html": [
              "Run data is saved locally in <code>/content/wandb/run-20231207_173746-5xfcyf3j</code>"
            ]
          },
          "metadata": {}
        },
        {
          "output_type": "display_data",
          "data": {
            "text/plain": [
              "<IPython.core.display.HTML object>"
            ],
            "text/html": [
              "Syncing run <strong><a href='https://wandb.ai/sahinwu0114/sleepiness/runs/5xfcyf3j' target=\"_blank\">deft-lion-1</a></strong> to <a href='https://wandb.ai/sahinwu0114/sleepiness' target=\"_blank\">Weights & Biases</a> (<a href='https://wandb.me/run' target=\"_blank\">docs</a>)<br/>"
            ]
          },
          "metadata": {}
        },
        {
          "output_type": "display_data",
          "data": {
            "text/plain": [
              "<IPython.core.display.HTML object>"
            ],
            "text/html": [
              " View project at <a href='https://wandb.ai/sahinwu0114/sleepiness' target=\"_blank\">https://wandb.ai/sahinwu0114/sleepiness</a>"
            ]
          },
          "metadata": {}
        },
        {
          "output_type": "display_data",
          "data": {
            "text/plain": [
              "<IPython.core.display.HTML object>"
            ],
            "text/html": [
              " View run at <a href='https://wandb.ai/sahinwu0114/sleepiness/runs/5xfcyf3j' target=\"_blank\">https://wandb.ai/sahinwu0114/sleepiness/runs/5xfcyf3j</a>"
            ]
          },
          "metadata": {}
        },
        {
          "output_type": "execute_result",
          "data": {
            "text/html": [
              "<button onClick=\"this.nextSibling.style.display='block';this.style.display='none';\">Display W&B run</button><iframe src='https://wandb.ai/sahinwu0114/sleepiness/runs/5xfcyf3j?jupyter=true' style='border:none;width:100%;height:420px;display:none;'></iframe>"
            ],
            "text/plain": [
              "<wandb.sdk.wandb_run.Run at 0x78eb804c70d0>"
            ]
          },
          "metadata": {},
          "execution_count": 2
        }
      ],
      "source": [
        "!pip install wandb -Uq\n",
        "\n",
        "import wandb\n",
        "\n",
        "wandb.login()\n",
        "\n",
        "wandb.init(project=\"sleepiness\")\n"
      ]
    },
    {
      "cell_type": "code",
      "source": [
        "# clone YOLOv5 repository\n",
        "!git clone https://github.com/ultralytics/yolov5  # clone repo\n",
        "%cd yolov5\n",
        "!git reset --hard fbe67e465375231474a2ad80a4389efc77ecff99\n",
        "\n",
        "# install dependencies as necessary\n",
        "!pip install -qr requirements.txt  # install dependencies (ignore errors)\n",
        "import torch\n",
        "\n",
        "from IPython.display import Image, clear_output  # to display images\n",
        "from utils.downloads import attempt_download  # to download models/datasets\n",
        "\n",
        "# clear_output()\n",
        "print('Setup complete. Using torch %s %s' % (torch.__version__, torch.cuda.get_device_properties(0) if torch.cuda.is_available() else 'GPU'))"
      ],
      "metadata": {
        "colab": {
          "base_uri": "https://localhost:8080/"
        },
        "id": "Sk3cukPqyXmB",
        "outputId": "b245e7eb-cf2d-45bb-cd53-8d06b1ed0a59"
      },
      "execution_count": null,
      "outputs": [
        {
          "output_type": "stream",
          "name": "stdout",
          "text": [
            "Cloning into 'yolov5'...\n",
            "remote: Enumerating objects: 16088, done.\u001b[K\n",
            "remote: Counting objects: 100% (32/32), done.\u001b[K\n",
            "remote: Compressing objects: 100% (30/30), done.\u001b[K\n",
            "remote: Total 16088 (delta 10), reused 14 (delta 2), pack-reused 16056\u001b[K\n",
            "Receiving objects: 100% (16088/16088), 14.65 MiB | 19.08 MiB/s, done.\n",
            "Resolving deltas: 100% (11042/11042), done.\n",
            "/content/yolov5/yolov5\n",
            "HEAD is now at fbe67e4 Fix `OMP_NUM_THREADS=1` for macOS (#8624)\n",
            "Setup complete. Using torch 2.1.0+cu118 _CudaDeviceProperties(name='Tesla T4', major=7, minor=5, total_memory=15101MB, multi_processor_count=40)\n"
          ]
        }
      ]
    },
    {
      "cell_type": "code",
      "source": [
        "!pip install roboflow\n",
        "\n",
        "from roboflow import Roboflow\n",
        "rf = Roboflow(api_key=\"Rc5dLjeFOEmN3f1dQKR5\")\n",
        "project = rf.workspace(\"nicky-a6tyr\").project(\"sleepness\")\n",
        "dataset = project.version(2).download(\"yolov5\")"
      ],
      "metadata": {
        "colab": {
          "base_uri": "https://localhost:8080/"
        },
        "id": "koNp3U2Uw_cI",
        "outputId": "318ac053-f15b-4190-f718-801d9cfc8e96"
      },
      "execution_count": null,
      "outputs": [
        {
          "output_type": "stream",
          "name": "stdout",
          "text": [
            "Requirement already satisfied: roboflow in /usr/local/lib/python3.10/dist-packages (1.1.12)\n",
            "Requirement already satisfied: certifi==2023.7.22 in /usr/local/lib/python3.10/dist-packages (from roboflow) (2023.7.22)\n",
            "Requirement already satisfied: chardet==4.0.0 in /usr/local/lib/python3.10/dist-packages (from roboflow) (4.0.0)\n",
            "Requirement already satisfied: cycler==0.10.0 in /usr/local/lib/python3.10/dist-packages (from roboflow) (0.10.0)\n",
            "Requirement already satisfied: idna==2.10 in /usr/local/lib/python3.10/dist-packages (from roboflow) (2.10)\n",
            "Requirement already satisfied: kiwisolver>=1.3.1 in /usr/local/lib/python3.10/dist-packages (from roboflow) (1.4.5)\n",
            "Requirement already satisfied: matplotlib in /usr/local/lib/python3.10/dist-packages (from roboflow) (3.7.1)\n",
            "Requirement already satisfied: numpy>=1.18.5 in /usr/local/lib/python3.10/dist-packages (from roboflow) (1.23.5)\n",
            "Requirement already satisfied: opencv-python-headless==4.8.0.74 in /usr/local/lib/python3.10/dist-packages (from roboflow) (4.8.0.74)\n",
            "Requirement already satisfied: Pillow>=7.1.2 in /usr/local/lib/python3.10/dist-packages (from roboflow) (9.4.0)\n",
            "Requirement already satisfied: pyparsing==2.4.7 in /usr/local/lib/python3.10/dist-packages (from roboflow) (2.4.7)\n",
            "Requirement already satisfied: python-dateutil in /usr/local/lib/python3.10/dist-packages (from roboflow) (2.8.2)\n",
            "Requirement already satisfied: python-dotenv in /usr/local/lib/python3.10/dist-packages (from roboflow) (1.0.0)\n",
            "Requirement already satisfied: requests in /usr/local/lib/python3.10/dist-packages (from roboflow) (2.31.0)\n",
            "Requirement already satisfied: six in /usr/local/lib/python3.10/dist-packages (from roboflow) (1.16.0)\n",
            "Requirement already satisfied: supervision in /usr/local/lib/python3.10/dist-packages (from roboflow) (0.17.0)\n",
            "Requirement already satisfied: urllib3>=1.26.6 in /usr/local/lib/python3.10/dist-packages (from roboflow) (2.0.7)\n",
            "Requirement already satisfied: tqdm>=4.41.0 in /usr/local/lib/python3.10/dist-packages (from roboflow) (4.66.1)\n",
            "Requirement already satisfied: PyYAML>=5.3.1 in /usr/local/lib/python3.10/dist-packages (from roboflow) (6.0.1)\n",
            "Requirement already satisfied: requests-toolbelt in /usr/local/lib/python3.10/dist-packages (from roboflow) (1.0.0)\n",
            "Requirement already satisfied: python-magic in /usr/local/lib/python3.10/dist-packages (from roboflow) (0.4.27)\n",
            "Requirement already satisfied: contourpy>=1.0.1 in /usr/local/lib/python3.10/dist-packages (from matplotlib->roboflow) (1.2.0)\n",
            "Requirement already satisfied: fonttools>=4.22.0 in /usr/local/lib/python3.10/dist-packages (from matplotlib->roboflow) (4.45.1)\n",
            "Requirement already satisfied: packaging>=20.0 in /usr/local/lib/python3.10/dist-packages (from matplotlib->roboflow) (23.2)\n",
            "Requirement already satisfied: charset-normalizer<4,>=2 in /usr/local/lib/python3.10/dist-packages (from requests->roboflow) (3.3.2)\n",
            "Requirement already satisfied: scipy<=2.0.0,>=1.9.0 in /usr/local/lib/python3.10/dist-packages (from supervision->roboflow) (1.11.4)\n",
            "loading Roboflow workspace...\n",
            "loading Roboflow project...\n"
          ]
        },
        {
          "output_type": "stream",
          "name": "stderr",
          "text": [
            "Downloading Dataset Version Zip in sleepness-2 to yolov5pytorch:: 100%|██████████| 17966/17966 [00:01<00:00, 16237.19it/s]"
          ]
        },
        {
          "output_type": "stream",
          "name": "stdout",
          "text": [
            "\n"
          ]
        },
        {
          "output_type": "stream",
          "name": "stderr",
          "text": [
            "\n",
            "Extracting Dataset Version Zip to sleepness-2 in yolov5pytorch:: 100%|██████████| 1012/1012 [00:00<00:00, 2755.59it/s]\n"
          ]
        }
      ]
    },
    {
      "cell_type": "code",
      "source": [
        "%cd /content/yolov5"
      ],
      "metadata": {
        "colab": {
          "base_uri": "https://localhost:8080/"
        },
        "id": "1ida-wbWxd-o",
        "outputId": "bb466b20-f224-4ecb-d03a-1dc98ba84aa9"
      },
      "execution_count": null,
      "outputs": [
        {
          "output_type": "stream",
          "name": "stdout",
          "text": [
            "/content/yolov5\n"
          ]
        }
      ]
    },
    {
      "cell_type": "code",
      "source": [
        "%cat {dataset.location}/data.yaml"
      ],
      "metadata": {
        "colab": {
          "base_uri": "https://localhost:8080/"
        },
        "id": "I-pAexhDyjbv",
        "outputId": "268588a1-7606-4987-9741-f97f128b97f5"
      },
      "execution_count": null,
      "outputs": [
        {
          "output_type": "stream",
          "name": "stdout",
          "text": [
            "names:\n",
            "- no_sleepiness\n",
            "- sleepiness\n",
            "nc: 2\n",
            "roboflow:\n",
            "  license: CC BY 4.0\n",
            "  project: sleepness\n",
            "  url: https://universe.roboflow.com/nicky-a6tyr/sleepness/dataset/2\n",
            "  version: 2\n",
            "  workspace: nicky-a6tyr\n",
            "test: ../test/images\n",
            "train: sleepness-2/train/images\n",
            "val: sleepness-2/valid/images\n"
          ]
        }
      ]
    },
    {
      "cell_type": "code",
      "source": [
        "import yaml\n",
        "with open(dataset.location + \"/data.yaml\", 'r') as stream:\n",
        "    num_classes = str(yaml.safe_load(stream)['nc'])"
      ],
      "metadata": {
        "id": "A1tgoKn-yw68"
      },
      "execution_count": null,
      "outputs": []
    },
    {
      "cell_type": "code",
      "source": [
        "%cat /content/yolov5/models/yolov5s.yaml"
      ],
      "metadata": {
        "colab": {
          "base_uri": "https://localhost:8080/"
        },
        "id": "qqCQ4SSSzKTE",
        "outputId": "50b76711-0c14-4b36-8afd-f463dd2be3c9"
      },
      "execution_count": null,
      "outputs": [
        {
          "output_type": "stream",
          "name": "stdout",
          "text": [
            "# YOLOv5 🚀 by Ultralytics, GPL-3.0 license\n",
            "\n",
            "# Parameters\n",
            "nc: 80  # number of classes\n",
            "depth_multiple: 0.33  # model depth multiple\n",
            "width_multiple: 0.50  # layer channel multiple\n",
            "anchors:\n",
            "  - [10,13, 16,30, 33,23]  # P3/8\n",
            "  - [30,61, 62,45, 59,119]  # P4/16\n",
            "  - [116,90, 156,198, 373,326]  # P5/32\n",
            "\n",
            "# YOLOv5 v6.0 backbone\n",
            "backbone:\n",
            "  # [from, number, module, args]\n",
            "  [[-1, 1, Conv, [64, 6, 2, 2]],  # 0-P1/2\n",
            "   [-1, 1, Conv, [128, 3, 2]],  # 1-P2/4\n",
            "   [-1, 3, C3, [128]],\n",
            "   [-1, 1, Conv, [256, 3, 2]],  # 3-P3/8\n",
            "   [-1, 6, C3, [256]],\n",
            "   [-1, 1, Conv, [512, 3, 2]],  # 5-P4/16\n",
            "   [-1, 9, C3, [512]],\n",
            "   [-1, 1, Conv, [1024, 3, 2]],  # 7-P5/32\n",
            "   [-1, 3, C3, [1024]],\n",
            "   [-1, 1, SPPF, [1024, 5]],  # 9\n",
            "  ]\n",
            "\n",
            "# YOLOv5 v6.0 head\n",
            "head:\n",
            "  [[-1, 1, Conv, [512, 1, 1]],\n",
            "   [-1, 1, nn.Upsample, [None, 2, 'nearest']],\n",
            "   [[-1, 6], 1, Concat, [1]],  # cat backbone P4\n",
            "   [-1, 3, C3, [512, False]],  # 13\n",
            "\n",
            "   [-1, 1, Conv, [256, 1, 1]],\n",
            "   [-1, 1, nn.Upsample, [None, 2, 'nearest']],\n",
            "   [[-1, 4], 1, Concat, [1]],  # cat backbone P3\n",
            "   [-1, 3, C3, [256, False]],  # 17 (P3/8-small)\n",
            "\n",
            "   [-1, 1, Conv, [256, 3, 2]],\n",
            "   [[-1, 14], 1, Concat, [1]],  # cat head P4\n",
            "   [-1, 3, C3, [512, False]],  # 20 (P4/16-medium)\n",
            "\n",
            "   [-1, 1, Conv, [512, 3, 2]],\n",
            "   [[-1, 10], 1, Concat, [1]],  # cat head P5\n",
            "   [-1, 3, C3, [1024, False]],  # 23 (P5/32-large)\n",
            "\n",
            "   [[17, 20, 23], 1, Detect, [nc, anchors]],  # Detect(P3, P4, P5)\n",
            "  ]\n"
          ]
        }
      ]
    },
    {
      "cell_type": "code",
      "source": [
        "#customize iPython writefile so we can write variables\n",
        "from IPython.core.magic import register_line_cell_magic\n",
        "\n",
        "@register_line_cell_magic\n",
        "def writetemplate(line, cell):\n",
        "    with open(line, 'w') as f:\n",
        "        f.write(cell.format(**globals()))"
      ],
      "metadata": {
        "id": "hOFQN3vjzPQs"
      },
      "execution_count": null,
      "outputs": []
    },
    {
      "cell_type": "code",
      "source": [
        "%%writetemplate /content/yolov5/models/custom_yolov5s.yaml\n",
        "\n",
        "# parameters\n",
        "nc: {num_classes}  # number of classes\n",
        "depth_multiple: 0.33  # model depth multiple\n",
        "width_multiple: 0.50  # layer channel multiple\n",
        "\n",
        "# anchors\n",
        "anchors:\n",
        "  - [10,13, 16,30, 33,23]  # P3/8\n",
        "  - [30,61, 62,45, 59,119]  # P4/16\n",
        "  - [116,90, 156,198, 373,326]  # P5/32\n",
        "\n",
        "# YOLOv5 backbone\n",
        "backbone:\n",
        "  # [from, number, module, args]\n",
        "  [[-1, 1, Focus, [64, 3]],  # 0-P1/2\n",
        "   [-1, 1, Conv, [128, 3, 2]],  # 1-P2/4\n",
        "   [-1, 3, BottleneckCSP, [128]],\n",
        "   [-1, 1, Conv, [256, 3, 2]],  # 3-P3/8\n",
        "   [-1, 9, BottleneckCSP, [256]],\n",
        "   [-1, 1, Conv, [512, 3, 2]],  # 5-P4/16\n",
        "   [-1, 9, BottleneckCSP, [512]],\n",
        "   [-1, 1, Conv, [1024, 3, 2]],  # 7-P5/32\n",
        "   [-1, 1, SPP, [1024, [5, 9, 13]]],\n",
        "   [-1, 3, BottleneckCSP, [1024, False]],  # 9\n",
        "  ]\n",
        "\n",
        "# YOLOv5 head\n",
        "head:\n",
        "  [[-1, 1, Conv, [512, 1, 1]],\n",
        "   [-1, 1, nn.Upsample, [None, 2, 'nearest']],\n",
        "   [[-1, 6], 1, Concat, [1]],  # cat backbone P4\n",
        "   [-1, 3, BottleneckCSP, [512, False]],  # 13\n",
        "\n",
        "   [-1, 1, Conv, [256, 1, 1]],\n",
        "   [-1, 1, nn.Upsample, [None, 2, 'nearest']],\n",
        "   [[-1, 4], 1, Concat, [1]],  # cat backbone P3\n",
        "   [-1, 3, BottleneckCSP, [256, False]],  # 17 (P3/8-small)\n",
        "\n",
        "   [-1, 1, Conv, [256, 3, 2]],\n",
        "   [[-1, 14], 1, Concat, [1]],  # cat head P4\n",
        "   [-1, 3, BottleneckCSP, [512, False]],  # 20 (P4/16-medium)\n",
        "\n",
        "   [-1, 1, Conv, [512, 3, 2]],\n",
        "   [[-1, 10], 1, Concat, [1]],  # cat head P5\n",
        "   [-1, 3, BottleneckCSP, [1024, False]],  # 23 (P5/32-large)\n",
        "\n",
        "   [[17, 20, 23], 1, Detect, [nc, anchors]],  # Detect(P3, P4, P5)\n",
        "  ]"
      ],
      "metadata": {
        "id": "oYrMgR9hzUXs"
      },
      "execution_count": null,
      "outputs": []
    },
    {
      "cell_type": "code",
      "source": [
        "!ls models"
      ],
      "metadata": {
        "colab": {
          "base_uri": "https://localhost:8080/"
        },
        "id": "0GE5TiBs2JD1",
        "outputId": "2391e292-504f-4a57-d1e7-6e4ef4c00772"
      },
      "execution_count": null,
      "outputs": [
        {
          "output_type": "stream",
          "name": "stdout",
          "text": [
            "common.py\t     hub\t  tf.py\t\tyolov5m.yaml  yolov5x.yaml\n",
            "custom_yolov5s.yaml  __init__.py  yolo.py\tyolov5n.yaml\n",
            "experimental.py      __pycache__  yolov5l.yaml\tyolov5s.yaml\n"
          ]
        }
      ]
    },
    {
      "cell_type": "code",
      "source": [
        "# train yolov5s on custom data for 100 epochs\n",
        "# time its performance\n",
        "%%time\n",
        "%cd /content/yolov5/\n",
        "!python train.py --img 350 --batch 20 --epochs 100 --data {dataset.location}/data.yaml --cfg models/custom_yolov5s.yaml --weights '' --name yolov5s_results  --cache"
      ],
      "metadata": {
        "colab": {
          "base_uri": "https://localhost:8080/"
        },
        "id": "JjDC9TERzahR",
        "outputId": "363c5d79-d8bd-47de-e825-4763ddb1394f"
      },
      "execution_count": null,
      "outputs": [
        {
          "output_type": "stream",
          "name": "stdout",
          "text": [
            "/content/yolov5\n",
            "2023-12-07 18:35:28.588124: E tensorflow/compiler/xla/stream_executor/cuda/cuda_dnn.cc:9342] Unable to register cuDNN factory: Attempting to register factory for plugin cuDNN when one has already been registered\n",
            "2023-12-07 18:35:28.588187: E tensorflow/compiler/xla/stream_executor/cuda/cuda_fft.cc:609] Unable to register cuFFT factory: Attempting to register factory for plugin cuFFT when one has already been registered\n",
            "2023-12-07 18:35:28.588222: E tensorflow/compiler/xla/stream_executor/cuda/cuda_blas.cc:1518] Unable to register cuBLAS factory: Attempting to register factory for plugin cuBLAS when one has already been registered\n",
            "2023-12-07 18:35:30.207761: W tensorflow/compiler/tf2tensorrt/utils/py_utils.cc:38] TF-TRT Warning: Could not find TensorRT\n",
            "\u001b[34m\u001b[1mwandb\u001b[0m: Currently logged in as: \u001b[33msahinwu0114\u001b[0m. Use \u001b[1m`wandb login --relogin`\u001b[0m to force relogin\n",
            "\u001b[34m\u001b[1mtrain: \u001b[0mweights=, cfg=models/custom_yolov5s.yaml, data=/content/yolov5/yolov5/sleepness-2/data.yaml, hyp=data/hyps/hyp.scratch-low.yaml, epochs=100, batch_size=20, imgsz=350, rect=False, resume=False, nosave=False, noval=False, noautoanchor=False, noplots=False, evolve=None, bucket=, cache=ram, image_weights=False, device=, multi_scale=False, single_cls=False, optimizer=SGD, sync_bn=False, workers=8, project=runs/train, name=yolov5s_results, exist_ok=False, quad=False, cos_lr=False, label_smoothing=0.0, patience=100, freeze=[0], save_period=-1, seed=0, local_rank=-1, entity=None, upload_dataset=False, bbox_interval=-1, artifact_alias=latest\n",
            "\u001b[34m\u001b[1mgithub: \u001b[0m⚠️ YOLOv5 is out of date by 611 commits. Use `git pull` or `git clone https://github.com/ultralytics/yolov5` to update.\n",
            "YOLOv5 🚀 v6.1-306-gfbe67e4 Python-3.10.12 torch-2.1.0+cu118 CUDA:0 (Tesla T4, 15102MiB)\n",
            "\n",
            "\u001b[34m\u001b[1mhyperparameters: \u001b[0mlr0=0.01, lrf=0.01, momentum=0.937, weight_decay=0.0005, warmup_epochs=3.0, warmup_momentum=0.8, warmup_bias_lr=0.1, box=0.05, cls=0.5, cls_pw=1.0, obj=1.0, obj_pw=1.0, iou_t=0.2, anchor_t=4.0, fl_gamma=0.0, hsv_h=0.015, hsv_s=0.7, hsv_v=0.4, degrees=0.0, translate=0.1, scale=0.5, shear=0.0, perspective=0.0, flipud=0.0, fliplr=0.5, mosaic=1.0, mixup=0.0, copy_paste=0.0\n",
            "\u001b[34m\u001b[1mTensorBoard: \u001b[0mStart with 'tensorboard --logdir runs/train', view at http://localhost:6006/\n",
            "\u001b[34m\u001b[1mwandb\u001b[0m: Tracking run with wandb version 0.16.1\n",
            "\u001b[34m\u001b[1mwandb\u001b[0m: Run data is saved locally in \u001b[35m\u001b[1m/content/yolov5/wandb/run-20231207_183533-iqohi3nb\u001b[0m\n",
            "\u001b[34m\u001b[1mwandb\u001b[0m: Run \u001b[1m`wandb offline`\u001b[0m to turn off syncing.\n",
            "\u001b[34m\u001b[1mwandb\u001b[0m: Syncing run \u001b[33myolov5s_results\u001b[0m\n",
            "\u001b[34m\u001b[1mwandb\u001b[0m: ⭐️ View project at \u001b[34m\u001b[4mhttps://wandb.ai/sahinwu0114/YOLOv5\u001b[0m\n",
            "\u001b[34m\u001b[1mwandb\u001b[0m: 🚀 View run at \u001b[34m\u001b[4mhttps://wandb.ai/sahinwu0114/YOLOv5/runs/iqohi3nb\u001b[0m\n",
            "YOLOv5 temporarily requires wandb version 0.12.10 or below. Some features may not work as expected.\n",
            "\n",
            "                 from  n    params  module                                  arguments                     \n",
            "  0                -1  1      3520  models.common.Focus                     [3, 32, 3]                    \n",
            "  1                -1  1     18560  models.common.Conv                      [32, 64, 3, 2]                \n",
            "  2                -1  1     19904  models.common.BottleneckCSP             [64, 64, 1]                   \n",
            "  3                -1  1     73984  models.common.Conv                      [64, 128, 3, 2]               \n",
            "  4                -1  3    161152  models.common.BottleneckCSP             [128, 128, 3]                 \n",
            "  5                -1  1    295424  models.common.Conv                      [128, 256, 3, 2]              \n",
            "  6                -1  3    641792  models.common.BottleneckCSP             [256, 256, 3]                 \n",
            "  7                -1  1   1180672  models.common.Conv                      [256, 512, 3, 2]              \n",
            "  8                -1  1    656896  models.common.SPP                       [512, 512, [5, 9, 13]]        \n",
            "  9                -1  1   1248768  models.common.BottleneckCSP             [512, 512, 1, False]          \n",
            " 10                -1  1    131584  models.common.Conv                      [512, 256, 1, 1]              \n",
            " 11                -1  1         0  torch.nn.modules.upsampling.Upsample    [None, 2, 'nearest']          \n",
            " 12           [-1, 6]  1         0  models.common.Concat                    [1]                           \n",
            " 13                -1  1    378624  models.common.BottleneckCSP             [512, 256, 1, False]          \n",
            " 14                -1  1     33024  models.common.Conv                      [256, 128, 1, 1]              \n",
            " 15                -1  1         0  torch.nn.modules.upsampling.Upsample    [None, 2, 'nearest']          \n",
            " 16           [-1, 4]  1         0  models.common.Concat                    [1]                           \n",
            " 17                -1  1     95104  models.common.BottleneckCSP             [256, 128, 1, False]          \n",
            " 18                -1  1    147712  models.common.Conv                      [128, 128, 3, 2]              \n",
            " 19          [-1, 14]  1         0  models.common.Concat                    [1]                           \n",
            " 20                -1  1    313088  models.common.BottleneckCSP             [256, 256, 1, False]          \n",
            " 21                -1  1    590336  models.common.Conv                      [256, 256, 3, 2]              \n",
            " 22          [-1, 10]  1         0  models.common.Concat                    [1]                           \n",
            " 23                -1  1   1248768  models.common.BottleneckCSP             [512, 512, 1, False]          \n",
            " 24      [17, 20, 23]  1     18879  models.yolo.Detect                      [2, [[10, 13, 16, 30, 33, 23], [30, 61, 62, 45, 59, 119], [116, 90, 156, 198, 373, 326]], [128, 256, 512]]\n",
            "custom_YOLOv5s summary: 283 layers, 7257791 parameters, 7257791 gradients, 16.9 GFLOPs\n",
            "\n",
            "\u001b[34m\u001b[1mAMP: \u001b[0mchecks passed ✅\n",
            "WARNING: --img-size 350 must be multiple of max stride 32, updating to 352\n",
            "Scaled weight_decay = 0.00046875\n",
            "\u001b[34m\u001b[1moptimizer:\u001b[0m SGD with parameter groups 59 weight (no decay), 70 weight, 62 bias\n",
            "\u001b[34m\u001b[1malbumentations: \u001b[0mBlur(always_apply=False, p=0.01, blur_limit=(3, 7)), MedianBlur(always_apply=False, p=0.01, blur_limit=(3, 7)), ToGray(always_apply=False, p=0.01), CLAHE(always_apply=False, p=0.01, clip_limit=(1, 4.0), tile_grid_size=(8, 8))\n",
            "\u001b[34m\u001b[1mtrain: \u001b[0mScanning '/content/yolov5/sleepness-2/train/labels.cache' images and labels... 350 found, 0 missing, 0 empty, 0 corrupt: 100% 350/350 [00:00<?, ?it/s]\n",
            "\u001b[34m\u001b[1mtrain: \u001b[0mCaching images (0.1GB ram): 100% 350/350 [00:02<00:00, 128.99it/s]\n",
            "\u001b[34m\u001b[1mval: \u001b[0mScanning '/content/yolov5/sleepness-2/valid/labels.cache' images and labels... 100 found, 0 missing, 0 empty, 0 corrupt: 100% 100/100 [00:00<?, ?it/s]\n",
            "\u001b[34m\u001b[1mval: \u001b[0mCaching images (0.0GB ram): 100% 100/100 [00:01<00:00, 74.06it/s]\n",
            "Plotting labels to runs/train/yolov5s_results8/labels.jpg... \n",
            "\n",
            "\u001b[34m\u001b[1mAutoAnchor: \u001b[0m3.92 anchors/target, 1.000 Best Possible Recall (BPR). Current anchors are a good fit to dataset ✅\n",
            "Image sizes 352 train, 352 val\n",
            "Using 2 dataloader workers\n",
            "Logging results to \u001b[1mruns/train/yolov5s_results8\u001b[0m\n",
            "Starting training for 100 epochs...\n",
            "\n",
            "     Epoch   gpu_mem       box       obj       cls    labels  img_size\n",
            "      0/99     1.69G    0.1037    0.0199   0.02751        22       352: 100% 18/18 [00:07<00:00,  2.27it/s]\n",
            "               Class     Images     Labels          P          R     mAP@.5 mAP@.5:.95: 100% 3/3 [00:01<00:00,  1.94it/s]\n",
            "                 all        100        100    0.00237       0.74    0.00276   0.000643\n",
            "\n",
            "     Epoch   gpu_mem       box       obj       cls    labels  img_size\n",
            "      1/99     1.84G   0.08625   0.02159   0.02714        24       352: 100% 18/18 [00:02<00:00,  6.76it/s]\n",
            "               Class     Images     Labels          P          R     mAP@.5 mAP@.5:.95: 100% 3/3 [00:00<00:00,  3.77it/s]\n",
            "                 all        100        100    0.00219      0.595    0.00328   0.000832\n",
            "\n",
            "     Epoch   gpu_mem       box       obj       cls    labels  img_size\n",
            "      2/99     1.84G   0.07984   0.02295   0.02669        19       352: 100% 18/18 [00:02<00:00,  6.95it/s]\n",
            "               Class     Images     Labels          P          R     mAP@.5 mAP@.5:.95: 100% 3/3 [00:00<00:00,  3.58it/s]\n",
            "                 all        100        100    0.00223       0.67     0.0041    0.00111\n",
            "\n",
            "     Epoch   gpu_mem       box       obj       cls    labels  img_size\n",
            "      3/99     1.84G   0.07753   0.02287   0.02653        25       352: 100% 18/18 [00:03<00:00,  4.94it/s]\n",
            "               Class     Images     Labels          P          R     mAP@.5 mAP@.5:.95: 100% 3/3 [00:01<00:00,  2.76it/s]\n",
            "                 all        100        100    0.00239      0.712     0.0039   0.000765\n",
            "\n",
            "     Epoch   gpu_mem       box       obj       cls    labels  img_size\n",
            "      4/99     1.84G   0.07674   0.02288   0.02626        17       352: 100% 18/18 [00:02<00:00,  6.30it/s]\n",
            "               Class     Images     Labels          P          R     mAP@.5 mAP@.5:.95: 100% 3/3 [00:00<00:00,  3.83it/s]\n",
            "                 all        100        100     0.0023      0.671    0.00486   0.000867\n",
            "\n",
            "     Epoch   gpu_mem       box       obj       cls    labels  img_size\n",
            "      5/99     1.84G   0.07432   0.02342   0.02608        24       352: 100% 18/18 [00:02<00:00,  7.23it/s]\n",
            "               Class     Images     Labels          P          R     mAP@.5 mAP@.5:.95: 100% 3/3 [00:00<00:00,  4.04it/s]\n",
            "                 all        100        100    0.00119      0.349    0.00473   0.000895\n",
            "\n",
            "     Epoch   gpu_mem       box       obj       cls    labels  img_size\n",
            "      6/99     1.84G   0.07354   0.02371   0.02609        25       352: 100% 18/18 [00:02<00:00,  6.94it/s]\n",
            "               Class     Images     Labels          P          R     mAP@.5 mAP@.5:.95: 100% 3/3 [00:00<00:00,  3.40it/s]\n",
            "                 all        100        100   0.000758      0.192   0.000809   0.000136\n",
            "\n",
            "     Epoch   gpu_mem       box       obj       cls    labels  img_size\n",
            "      7/99     1.84G   0.07086   0.02417    0.0257        25       352: 100% 18/18 [00:04<00:00,  4.50it/s]\n",
            "               Class     Images     Labels          P          R     mAP@.5 mAP@.5:.95: 100% 3/3 [00:00<00:00,  4.32it/s]\n",
            "                 all        100        100    0.00147      0.348    0.00256   0.000392\n",
            "\n",
            "     Epoch   gpu_mem       box       obj       cls    labels  img_size\n",
            "      8/99     1.84G   0.07104   0.02431   0.02554        18       352: 100% 18/18 [00:02<00:00,  7.10it/s]\n",
            "               Class     Images     Labels          P          R     mAP@.5 mAP@.5:.95: 100% 3/3 [00:00<00:00,  3.32it/s]\n",
            "                 all        100        100    0.00303      0.908     0.0358    0.00948\n",
            "\n",
            "     Epoch   gpu_mem       box       obj       cls    labels  img_size\n",
            "      9/99     1.84G   0.06787   0.02474   0.02541        23       352: 100% 18/18 [00:02<00:00,  6.40it/s]\n",
            "               Class     Images     Labels          P          R     mAP@.5 mAP@.5:.95: 100% 3/3 [00:01<00:00,  1.59it/s]\n",
            "                 all        100        100    0.00289      0.866     0.0132    0.00415\n",
            "\n",
            "     Epoch   gpu_mem       box       obj       cls    labels  img_size\n",
            "     10/99     1.84G   0.06688   0.02369   0.02474        18       352: 100% 18/18 [00:04<00:00,  4.07it/s]\n",
            "               Class     Images     Labels          P          R     mAP@.5 mAP@.5:.95: 100% 3/3 [00:00<00:00,  3.79it/s]\n",
            "                 all        100        100    0.00259      0.768     0.0202    0.00623\n",
            "\n",
            "     Epoch   gpu_mem       box       obj       cls    labels  img_size\n",
            "     11/99     1.84G   0.06492   0.02478   0.02475        22       352: 100% 18/18 [00:02<00:00,  7.02it/s]\n",
            "               Class     Images     Labels          P          R     mAP@.5 mAP@.5:.95: 100% 3/3 [00:00<00:00,  4.02it/s]\n",
            "                 all        100        100    0.00765      0.474     0.0138    0.00475\n",
            "\n",
            "     Epoch   gpu_mem       box       obj       cls    labels  img_size\n",
            "     12/99     1.84G    0.0639   0.02486   0.02495        28       352: 100% 18/18 [00:02<00:00,  7.12it/s]\n",
            "               Class     Images     Labels          P          R     mAP@.5 mAP@.5:.95: 100% 3/3 [00:00<00:00,  3.27it/s]\n",
            "                 all        100        100    0.00927      0.592     0.0121    0.00322\n",
            "\n",
            "     Epoch   gpu_mem       box       obj       cls    labels  img_size\n",
            "     13/99     1.84G   0.06148   0.02472   0.02376        26       352: 100% 18/18 [00:04<00:00,  4.32it/s]\n",
            "               Class     Images     Labels          P          R     mAP@.5 mAP@.5:.95: 100% 3/3 [00:00<00:00,  3.05it/s]\n",
            "                 all        100        100      0.245      0.174      0.185     0.0758\n",
            "\n",
            "     Epoch   gpu_mem       box       obj       cls    labels  img_size\n",
            "     14/99     1.84G   0.05944   0.02323   0.02423        17       352: 100% 18/18 [00:02<00:00,  7.14it/s]\n",
            "               Class     Images     Labels          P          R     mAP@.5 mAP@.5:.95: 100% 3/3 [00:00<00:00,  3.77it/s]\n",
            "                 all        100        100      0.225      0.166       0.18     0.0628\n",
            "\n",
            "     Epoch   gpu_mem       box       obj       cls    labels  img_size\n",
            "     15/99     1.84G    0.0565   0.02581   0.02523        33       352: 100% 18/18 [00:02<00:00,  7.06it/s]\n",
            "               Class     Images     Labels          P          R     mAP@.5 mAP@.5:.95: 100% 3/3 [00:00<00:00,  3.55it/s]\n",
            "                 all        100        100      0.708      0.155      0.165     0.0492\n",
            "\n",
            "     Epoch   gpu_mem       box       obj       cls    labels  img_size\n",
            "     16/99     1.84G   0.05535     0.024   0.02408        17       352: 100% 18/18 [00:04<00:00,  3.71it/s]\n",
            "               Class     Images     Labels          P          R     mAP@.5 mAP@.5:.95: 100% 3/3 [00:01<00:00,  2.46it/s]\n",
            "                 all        100        100      0.817      0.115      0.154     0.0619\n",
            "\n",
            "     Epoch   gpu_mem       box       obj       cls    labels  img_size\n",
            "     17/99     1.84G   0.05626   0.02546   0.02401        17       352: 100% 18/18 [00:02<00:00,  6.43it/s]\n",
            "               Class     Images     Labels          P          R     mAP@.5 mAP@.5:.95: 100% 3/3 [00:00<00:00,  3.47it/s]\n",
            "                 all        100        100      0.112      0.114     0.0544     0.0161\n",
            "\n",
            "     Epoch   gpu_mem       box       obj       cls    labels  img_size\n",
            "     18/99     1.84G    0.0519   0.02438   0.02409        28       352: 100% 18/18 [00:02<00:00,  6.75it/s]\n",
            "               Class     Images     Labels          P          R     mAP@.5 mAP@.5:.95: 100% 3/3 [00:00<00:00,  3.38it/s]\n",
            "                 all        100        100      0.656      0.115     0.0917     0.0329\n",
            "\n",
            "     Epoch   gpu_mem       box       obj       cls    labels  img_size\n",
            "     19/99     1.84G   0.05144   0.02357   0.02253        24       352: 100% 18/18 [00:03<00:00,  5.06it/s]\n",
            "               Class     Images     Labels          P          R     mAP@.5 mAP@.5:.95: 100% 3/3 [00:02<00:00,  1.07it/s]\n",
            "                 all        100        100       0.08      0.115      0.114     0.0413\n",
            "\n",
            "     Epoch   gpu_mem       box       obj       cls    labels  img_size\n",
            "     20/99     1.84G    0.0521   0.02364   0.02254        18       352: 100% 18/18 [00:03<00:00,  5.03it/s]\n",
            "               Class     Images     Labels          P          R     mAP@.5 mAP@.5:.95: 100% 3/3 [00:00<00:00,  3.28it/s]\n",
            "                 all        100        100      0.197      0.195      0.185     0.0696\n",
            "\n",
            "     Epoch   gpu_mem       box       obj       cls    labels  img_size\n",
            "     21/99     1.84G    0.0488    0.0231   0.02208        17       352: 100% 18/18 [00:02<00:00,  6.98it/s]\n",
            "               Class     Images     Labels          P          R     mAP@.5 mAP@.5:.95: 100% 3/3 [00:00<00:00,  3.47it/s]\n",
            "                 all        100        100      0.384      0.328      0.337      0.117\n",
            "\n",
            "     Epoch   gpu_mem       box       obj       cls    labels  img_size\n",
            "     22/99     1.84G   0.04999   0.02243   0.02193        26       352: 100% 18/18 [00:04<00:00,  4.43it/s]\n",
            "               Class     Images     Labels          P          R     mAP@.5 mAP@.5:.95: 100% 3/3 [00:01<00:00,  2.41it/s]\n",
            "                 all        100        100      0.407      0.457      0.437       0.16\n",
            "\n",
            "     Epoch   gpu_mem       box       obj       cls    labels  img_size\n",
            "     23/99     1.84G   0.05065   0.02269   0.02079        17       352: 100% 18/18 [00:02<00:00,  6.47it/s]\n",
            "               Class     Images     Labels          P          R     mAP@.5 mAP@.5:.95: 100% 3/3 [00:00<00:00,  3.43it/s]\n",
            "                 all        100        100      0.309       0.51      0.368      0.132\n",
            "\n",
            "     Epoch   gpu_mem       box       obj       cls    labels  img_size\n",
            "     24/99     1.84G   0.04924   0.02404   0.02177        20       352: 100% 18/18 [00:02<00:00,  6.26it/s]\n",
            "               Class     Images     Labels          P          R     mAP@.5 mAP@.5:.95: 100% 3/3 [00:00<00:00,  3.41it/s]\n",
            "                 all        100        100      0.213      0.446      0.273     0.0986\n",
            "\n",
            "     Epoch   gpu_mem       box       obj       cls    labels  img_size\n",
            "     25/99     1.84G   0.04757   0.02259   0.02102        30       352: 100% 18/18 [00:03<00:00,  4.79it/s]\n",
            "               Class     Images     Labels          P          R     mAP@.5 mAP@.5:.95: 100% 3/3 [00:01<00:00,  2.37it/s]\n",
            "                 all        100        100      0.398      0.338      0.334     0.0949\n",
            "\n",
            "     Epoch   gpu_mem       box       obj       cls    labels  img_size\n",
            "     26/99     1.84G   0.04719   0.02257    0.0204        28       352: 100% 18/18 [00:03<00:00,  5.53it/s]\n",
            "               Class     Images     Labels          P          R     mAP@.5 mAP@.5:.95: 100% 3/3 [00:00<00:00,  3.53it/s]\n",
            "                 all        100        100       0.34      0.329      0.313      0.118\n",
            "\n",
            "     Epoch   gpu_mem       box       obj       cls    labels  img_size\n",
            "     27/99     1.84G   0.04764   0.02242   0.02033        24       352: 100% 18/18 [00:02<00:00,  6.07it/s]\n",
            "               Class     Images     Labels          P          R     mAP@.5 mAP@.5:.95: 100% 3/3 [00:00<00:00,  3.42it/s]\n",
            "                 all        100        100      0.529      0.462      0.513      0.224\n",
            "\n",
            "     Epoch   gpu_mem       box       obj       cls    labels  img_size\n",
            "     28/99     1.84G   0.04795   0.02226   0.02075        25       352: 100% 18/18 [00:03<00:00,  5.88it/s]\n",
            "               Class     Images     Labels          P          R     mAP@.5 mAP@.5:.95: 100% 3/3 [00:01<00:00,  2.64it/s]\n",
            "                 all        100        100      0.548      0.422      0.458      0.196\n",
            "\n",
            "     Epoch   gpu_mem       box       obj       cls    labels  img_size\n",
            "     29/99     1.84G   0.04684   0.02204   0.01796        31       352: 100% 18/18 [00:03<00:00,  4.62it/s]\n",
            "               Class     Images     Labels          P          R     mAP@.5 mAP@.5:.95: 100% 3/3 [00:02<00:00,  1.46it/s]\n",
            "                 all        100        100      0.384      0.582      0.492      0.219\n",
            "\n",
            "     Epoch   gpu_mem       box       obj       cls    labels  img_size\n",
            "     30/99     1.84G   0.04604   0.02275   0.01962        26       352: 100% 18/18 [00:04<00:00,  4.35it/s]\n",
            "               Class     Images     Labels          P          R     mAP@.5 mAP@.5:.95: 100% 3/3 [00:00<00:00,  3.26it/s]\n",
            "                 all        100        100        0.5      0.635      0.509      0.196\n",
            "\n",
            "     Epoch   gpu_mem       box       obj       cls    labels  img_size\n",
            "     31/99     1.84G   0.04538   0.02167    0.0186        25       352: 100% 18/18 [00:04<00:00,  4.04it/s]\n",
            "               Class     Images     Labels          P          R     mAP@.5 mAP@.5:.95: 100% 3/3 [00:01<00:00,  2.16it/s]\n",
            "                 all        100        100       0.28      0.598      0.421      0.172\n",
            "\n",
            "     Epoch   gpu_mem       box       obj       cls    labels  img_size\n",
            "     32/99     1.84G   0.04552    0.0216   0.01935        24       352: 100% 18/18 [00:03<00:00,  5.80it/s]\n",
            "               Class     Images     Labels          P          R     mAP@.5 mAP@.5:.95: 100% 3/3 [00:00<00:00,  3.11it/s]\n",
            "                 all        100        100      0.465      0.401      0.455      0.194\n",
            "\n",
            "     Epoch   gpu_mem       box       obj       cls    labels  img_size\n",
            "     33/99     1.84G   0.04406   0.02178   0.01804        18       352: 100% 18/18 [00:02<00:00,  6.01it/s]\n",
            "               Class     Images     Labels          P          R     mAP@.5 mAP@.5:.95: 100% 3/3 [00:00<00:00,  3.36it/s]\n",
            "                 all        100        100      0.649      0.369       0.41     0.0985\n",
            "\n",
            "     Epoch   gpu_mem       box       obj       cls    labels  img_size\n",
            "     34/99     1.84G   0.04414   0.02157   0.01776        23       352: 100% 18/18 [00:04<00:00,  4.19it/s]\n",
            "               Class     Images     Labels          P          R     mAP@.5 mAP@.5:.95: 100% 3/3 [00:01<00:00,  2.29it/s]\n",
            "                 all        100        100      0.362      0.674      0.345      0.165\n",
            "\n",
            "     Epoch   gpu_mem       box       obj       cls    labels  img_size\n",
            "     35/99     1.84G    0.0438   0.02189   0.01918        19       352: 100% 18/18 [00:03<00:00,  5.60it/s]\n",
            "               Class     Images     Labels          P          R     mAP@.5 mAP@.5:.95: 100% 3/3 [00:00<00:00,  3.30it/s]\n",
            "                 all        100        100      0.288      0.243      0.194     0.0598\n",
            "\n",
            "     Epoch   gpu_mem       box       obj       cls    labels  img_size\n",
            "     36/99     1.84G   0.04425   0.02099   0.01789        24       352: 100% 18/18 [00:02<00:00,  6.13it/s]\n",
            "               Class     Images     Labels          P          R     mAP@.5 mAP@.5:.95: 100% 3/3 [00:00<00:00,  3.47it/s]\n",
            "                 all        100        100      0.263       0.51      0.321      0.105\n",
            "\n",
            "     Epoch   gpu_mem       box       obj       cls    labels  img_size\n",
            "     37/99     1.84G   0.04484   0.02136   0.01674        25       352: 100% 18/18 [00:03<00:00,  6.00it/s]\n",
            "               Class     Images     Labels          P          R     mAP@.5 mAP@.5:.95: 100% 3/3 [00:01<00:00,  2.35it/s]\n",
            "                 all        100        100      0.577      0.638      0.641      0.306\n",
            "\n",
            "     Epoch   gpu_mem       box       obj       cls    labels  img_size\n",
            "     38/99     1.84G   0.04235   0.02088   0.01603        20       352: 100% 18/18 [00:03<00:00,  4.56it/s]\n",
            "               Class     Images     Labels          P          R     mAP@.5 mAP@.5:.95: 100% 3/3 [00:00<00:00,  3.45it/s]\n",
            "                 all        100        100      0.736      0.574      0.661      0.281\n",
            "\n",
            "     Epoch   gpu_mem       box       obj       cls    labels  img_size\n",
            "     39/99     1.84G   0.04281   0.02031   0.01672        22       352: 100% 18/18 [00:02<00:00,  6.30it/s]\n",
            "               Class     Images     Labels          P          R     mAP@.5 mAP@.5:.95: 100% 3/3 [00:01<00:00,  1.61it/s]\n",
            "                 all        100        100      0.811      0.712      0.801       0.35\n",
            "\n",
            "     Epoch   gpu_mem       box       obj       cls    labels  img_size\n",
            "     40/99     1.84G    0.0435   0.02026    0.0168        21       352: 100% 18/18 [00:05<00:00,  3.41it/s]\n",
            "               Class     Images     Labels          P          R     mAP@.5 mAP@.5:.95: 100% 3/3 [00:01<00:00,  2.49it/s]\n",
            "                 all        100        100      0.726      0.792      0.778      0.329\n",
            "\n",
            "     Epoch   gpu_mem       box       obj       cls    labels  img_size\n",
            "     41/99     1.84G   0.04336   0.02036   0.01673        15       352: 100% 18/18 [00:02<00:00,  6.32it/s]\n",
            "               Class     Images     Labels          P          R     mAP@.5 mAP@.5:.95: 100% 3/3 [00:00<00:00,  3.52it/s]\n",
            "                 all        100        100      0.577      0.673      0.669      0.263\n",
            "\n",
            "     Epoch   gpu_mem       box       obj       cls    labels  img_size\n",
            "     42/99     1.84G   0.04237   0.02001   0.01562        23       352: 100% 18/18 [00:02<00:00,  6.50it/s]\n",
            "               Class     Images     Labels          P          R     mAP@.5 mAP@.5:.95: 100% 3/3 [00:00<00:00,  3.77it/s]\n",
            "                 all        100        100      0.719      0.547      0.669      0.232\n",
            "\n",
            "     Epoch   gpu_mem       box       obj       cls    labels  img_size\n",
            "     43/99     1.84G   0.04313   0.01916   0.01566        16       352: 100% 18/18 [00:03<00:00,  5.13it/s]\n",
            "               Class     Images     Labels          P          R     mAP@.5 mAP@.5:.95: 100% 3/3 [00:01<00:00,  2.48it/s]\n",
            "                 all        100        100       0.69      0.752      0.766      0.334\n",
            "\n",
            "     Epoch   gpu_mem       box       obj       cls    labels  img_size\n",
            "     44/99     1.84G   0.04237   0.01906   0.01559        19       352: 100% 18/18 [00:03<00:00,  4.77it/s]\n",
            "               Class     Images     Labels          P          R     mAP@.5 mAP@.5:.95: 100% 3/3 [00:00<00:00,  3.25it/s]\n",
            "                 all        100        100      0.597      0.635      0.681      0.267\n",
            "\n",
            "     Epoch   gpu_mem       box       obj       cls    labels  img_size\n",
            "     45/99     1.84G   0.04244   0.01953   0.01601        23       352: 100% 18/18 [00:02<00:00,  6.13it/s]\n",
            "               Class     Images     Labels          P          R     mAP@.5 mAP@.5:.95: 100% 3/3 [00:00<00:00,  3.39it/s]\n",
            "                 all        100        100      0.729      0.651      0.753       0.33\n",
            "\n",
            "     Epoch   gpu_mem       box       obj       cls    labels  img_size\n",
            "     46/99     1.84G   0.04144   0.02037   0.01483        33       352: 100% 18/18 [00:02<00:00,  6.39it/s]\n",
            "               Class     Images     Labels          P          R     mAP@.5 mAP@.5:.95: 100% 3/3 [00:01<00:00,  2.52it/s]\n",
            "                 all        100        100      0.505      0.734      0.605      0.301\n",
            "\n",
            "     Epoch   gpu_mem       box       obj       cls    labels  img_size\n",
            "     47/99     1.84G   0.04111   0.01941   0.01461        24       352: 100% 18/18 [00:04<00:00,  4.31it/s]\n",
            "               Class     Images     Labels          P          R     mAP@.5 mAP@.5:.95: 100% 3/3 [00:00<00:00,  3.40it/s]\n",
            "                 all        100        100      0.557      0.612      0.569      0.242\n",
            "\n",
            "     Epoch   gpu_mem       box       obj       cls    labels  img_size\n",
            "     48/99     1.84G   0.04067   0.01926   0.01412        19       352: 100% 18/18 [00:02<00:00,  6.62it/s]\n",
            "               Class     Images     Labels          P          R     mAP@.5 mAP@.5:.95: 100% 3/3 [00:00<00:00,  3.51it/s]\n",
            "                 all        100        100       0.86      0.767      0.826      0.394\n",
            "\n",
            "     Epoch   gpu_mem       box       obj       cls    labels  img_size\n",
            "     49/99     1.84G   0.04077   0.01883   0.01409        24       352: 100% 18/18 [00:02<00:00,  6.79it/s]\n",
            "               Class     Images     Labels          P          R     mAP@.5 mAP@.5:.95: 100% 3/3 [00:01<00:00,  1.52it/s]\n",
            "                 all        100        100      0.782      0.771      0.856      0.409\n",
            "\n",
            "     Epoch   gpu_mem       box       obj       cls    labels  img_size\n",
            "     50/99     1.84G   0.03859   0.01965   0.01109        20       352: 100% 18/18 [00:03<00:00,  5.83it/s]\n",
            "               Class     Images     Labels          P          R     mAP@.5 mAP@.5:.95: 100% 3/3 [00:00<00:00,  3.33it/s]\n",
            "                 all        100        100      0.852      0.751       0.86      0.411\n",
            "\n",
            "     Epoch   gpu_mem       box       obj       cls    labels  img_size\n",
            "     51/99     1.84G   0.03984   0.01906   0.01258        24       352: 100% 18/18 [00:02<00:00,  6.12it/s]\n",
            "               Class     Images     Labels          P          R     mAP@.5 mAP@.5:.95: 100% 3/3 [00:00<00:00,  3.28it/s]\n",
            "                 all        100        100      0.844      0.758      0.883      0.456\n",
            "\n",
            "     Epoch   gpu_mem       box       obj       cls    labels  img_size\n",
            "     52/99     1.84G   0.04043   0.01867   0.01434        26       352: 100% 18/18 [00:03<00:00,  4.73it/s]\n",
            "               Class     Images     Labels          P          R     mAP@.5 mAP@.5:.95: 100% 3/3 [00:01<00:00,  2.32it/s]\n",
            "                 all        100        100      0.797       0.82      0.896      0.455\n",
            "\n",
            "     Epoch   gpu_mem       box       obj       cls    labels  img_size\n",
            "     53/99     1.84G   0.04066   0.01823   0.01295        16       352: 100% 18/18 [00:03<00:00,  5.95it/s]\n",
            "               Class     Images     Labels          P          R     mAP@.5 mAP@.5:.95: 100% 3/3 [00:00<00:00,  3.53it/s]\n",
            "                 all        100        100      0.898       0.77      0.895      0.437\n",
            "\n",
            "     Epoch   gpu_mem       box       obj       cls    labels  img_size\n",
            "     54/99     1.84G    0.0404   0.01808   0.01155        25       352: 100% 18/18 [00:03<00:00,  4.94it/s]\n",
            "               Class     Images     Labels          P          R     mAP@.5 mAP@.5:.95: 100% 3/3 [00:01<00:00,  2.37it/s]\n",
            "                 all        100        100      0.917      0.785      0.844       0.44\n",
            "\n",
            "     Epoch   gpu_mem       box       obj       cls    labels  img_size\n",
            "     55/99     1.84G   0.03906   0.01883   0.01222        22       352: 100% 18/18 [00:05<00:00,  3.01it/s]\n",
            "               Class     Images     Labels          P          R     mAP@.5 mAP@.5:.95: 100% 3/3 [00:01<00:00,  2.01it/s]\n",
            "                 all        100        100       0.77       0.77      0.841      0.417\n",
            "\n",
            "     Epoch   gpu_mem       box       obj       cls    labels  img_size\n",
            "     56/99     1.84G   0.03817   0.01856   0.01126        20       352: 100% 18/18 [00:02<00:00,  6.76it/s]\n",
            "               Class     Images     Labels          P          R     mAP@.5 mAP@.5:.95: 100% 3/3 [00:00<00:00,  3.08it/s]\n",
            "                 all        100        100      0.603      0.691      0.645      0.313\n",
            "\n",
            "     Epoch   gpu_mem       box       obj       cls    labels  img_size\n",
            "     57/99     1.84G   0.03782   0.01831   0.01118        22       352: 100% 18/18 [00:02<00:00,  6.70it/s]\n",
            "               Class     Images     Labels          P          R     mAP@.5 mAP@.5:.95: 100% 3/3 [00:00<00:00,  3.66it/s]\n",
            "                 all        100        100      0.882      0.733      0.897      0.394\n",
            "\n",
            "     Epoch   gpu_mem       box       obj       cls    labels  img_size\n",
            "     58/99     1.84G   0.03785   0.01805   0.01045        23       352: 100% 18/18 [00:03<00:00,  4.82it/s]\n",
            "               Class     Images     Labels          P          R     mAP@.5 mAP@.5:.95: 100% 3/3 [00:01<00:00,  1.53it/s]\n",
            "                 all        100        100       0.86      0.783      0.901      0.481\n",
            "\n",
            "     Epoch   gpu_mem       box       obj       cls    labels  img_size\n",
            "     59/99     1.84G   0.03741   0.01783    0.0108        22       352: 100% 18/18 [00:03<00:00,  5.78it/s]\n",
            "               Class     Images     Labels          P          R     mAP@.5 mAP@.5:.95: 100% 3/3 [00:01<00:00,  1.72it/s]\n",
            "                 all        100        100      0.837      0.873      0.931      0.494\n",
            "\n",
            "     Epoch   gpu_mem       box       obj       cls    labels  img_size\n",
            "     60/99     1.84G   0.03824   0.01744   0.01082        20       352: 100% 18/18 [00:03<00:00,  4.60it/s]\n",
            "               Class     Images     Labels          P          R     mAP@.5 mAP@.5:.95: 100% 3/3 [00:01<00:00,  1.56it/s]\n",
            "                 all        100        100      0.794       0.87      0.883      0.476\n",
            "\n",
            "     Epoch   gpu_mem       box       obj       cls    labels  img_size\n",
            "     61/99     1.84G   0.03854   0.01754   0.01174        22       352: 100% 18/18 [00:04<00:00,  3.67it/s]\n",
            "               Class     Images     Labels          P          R     mAP@.5 mAP@.5:.95: 100% 3/3 [00:01<00:00,  2.74it/s]\n",
            "                 all        100        100      0.866      0.892      0.939      0.504\n",
            "\n",
            "     Epoch   gpu_mem       box       obj       cls    labels  img_size\n",
            "     62/99     1.84G   0.03721   0.01769   0.01098        22       352: 100% 18/18 [00:02<00:00,  6.69it/s]\n",
            "               Class     Images     Labels          P          R     mAP@.5 mAP@.5:.95: 100% 3/3 [00:00<00:00,  3.61it/s]\n",
            "                 all        100        100      0.956      0.844      0.932       0.47\n",
            "\n",
            "     Epoch   gpu_mem       box       obj       cls    labels  img_size\n",
            "     63/99     1.84G   0.03765   0.01719   0.01092        25       352: 100% 18/18 [00:02<00:00,  6.71it/s]\n",
            "               Class     Images     Labels          P          R     mAP@.5 mAP@.5:.95: 100% 3/3 [00:00<00:00,  3.06it/s]\n",
            "                 all        100        100      0.954      0.828      0.946      0.537\n",
            "\n",
            "     Epoch   gpu_mem       box       obj       cls    labels  img_size\n",
            "     64/99     1.84G   0.03716   0.01735   0.01069        23       352: 100% 18/18 [00:04<00:00,  4.32it/s]\n",
            "               Class     Images     Labels          P          R     mAP@.5 mAP@.5:.95: 100% 3/3 [00:00<00:00,  3.39it/s]\n",
            "                 all        100        100      0.887      0.858      0.949      0.528\n",
            "\n",
            "     Epoch   gpu_mem       box       obj       cls    labels  img_size\n",
            "     65/99     1.84G   0.03805   0.01754   0.01053        23       352: 100% 18/18 [00:02<00:00,  6.43it/s]\n",
            "               Class     Images     Labels          P          R     mAP@.5 mAP@.5:.95: 100% 3/3 [00:00<00:00,  3.21it/s]\n",
            "                 all        100        100      0.859       0.95      0.959      0.511\n",
            "\n",
            "     Epoch   gpu_mem       box       obj       cls    labels  img_size\n",
            "     66/99     1.84G   0.03688   0.01721   0.01058        24       352: 100% 18/18 [00:02<00:00,  6.03it/s]\n",
            "               Class     Images     Labels          P          R     mAP@.5 mAP@.5:.95: 100% 3/3 [00:00<00:00,  3.37it/s]\n",
            "                 all        100        100      0.908      0.863      0.939      0.525\n",
            "\n",
            "     Epoch   gpu_mem       box       obj       cls    labels  img_size\n",
            "     67/99     1.84G   0.03613   0.01674  0.008968        23       352: 100% 18/18 [00:04<00:00,  3.88it/s]\n",
            "               Class     Images     Labels          P          R     mAP@.5 mAP@.5:.95: 100% 3/3 [00:01<00:00,  2.63it/s]\n",
            "                 all        100        100      0.887       0.87      0.931      0.495\n",
            "\n",
            "     Epoch   gpu_mem       box       obj       cls    labels  img_size\n",
            "     68/99     1.84G   0.03647   0.01672  0.009378        25       352: 100% 18/18 [00:02<00:00,  6.57it/s]\n",
            "               Class     Images     Labels          P          R     mAP@.5 mAP@.5:.95: 100% 3/3 [00:00<00:00,  3.47it/s]\n",
            "                 all        100        100      0.895      0.914      0.956      0.516\n",
            "\n",
            "     Epoch   gpu_mem       box       obj       cls    labels  img_size\n",
            "     69/99     1.84G   0.03591   0.01705  0.009073        25       352: 100% 18/18 [00:02<00:00,  6.59it/s]\n",
            "               Class     Images     Labels          P          R     mAP@.5 mAP@.5:.95: 100% 3/3 [00:01<00:00,  1.73it/s]\n",
            "                 all        100        100      0.898      0.881      0.938      0.526\n",
            "\n",
            "     Epoch   gpu_mem       box       obj       cls    labels  img_size\n",
            "     70/99     1.84G   0.03488   0.01708  0.007985        24       352: 100% 18/18 [00:06<00:00,  2.92it/s]\n",
            "               Class     Images     Labels          P          R     mAP@.5 mAP@.5:.95: 100% 3/3 [00:00<00:00,  3.34it/s]\n",
            "                 all        100        100      0.891      0.867       0.93      0.528\n",
            "\n",
            "     Epoch   gpu_mem       box       obj       cls    labels  img_size\n",
            "     71/99     1.84G   0.03493   0.01757  0.008926        21       352: 100% 18/18 [00:02<00:00,  6.66it/s]\n",
            "               Class     Images     Labels          P          R     mAP@.5 mAP@.5:.95: 100% 3/3 [00:00<00:00,  3.55it/s]\n",
            "                 all        100        100      0.927       0.84      0.946      0.501\n",
            "\n",
            "     Epoch   gpu_mem       box       obj       cls    labels  img_size\n",
            "     72/99     1.84G   0.03547   0.01654  0.009093        27       352: 100% 18/18 [00:02<00:00,  6.80it/s]\n",
            "               Class     Images     Labels          P          R     mAP@.5 mAP@.5:.95: 100% 3/3 [00:00<00:00,  3.62it/s]\n",
            "                 all        100        100      0.844      0.931      0.954      0.521\n",
            "\n",
            "     Epoch   gpu_mem       box       obj       cls    labels  img_size\n",
            "     73/99     1.84G   0.03548   0.01632  0.008874        22       352: 100% 18/18 [00:03<00:00,  4.50it/s]\n",
            "               Class     Images     Labels          P          R     mAP@.5 mAP@.5:.95: 100% 3/3 [00:01<00:00,  2.62it/s]\n",
            "                 all        100        100      0.846      0.873      0.926       0.51\n",
            "\n",
            "     Epoch   gpu_mem       box       obj       cls    labels  img_size\n",
            "     74/99     1.84G    0.0354   0.01659  0.008994        22       352: 100% 18/18 [00:02<00:00,  6.46it/s]\n",
            "               Class     Images     Labels          P          R     mAP@.5 mAP@.5:.95: 100% 3/3 [00:00<00:00,  3.58it/s]\n",
            "                 all        100        100        0.9      0.951      0.974      0.548\n",
            "\n",
            "     Epoch   gpu_mem       box       obj       cls    labels  img_size\n",
            "     75/99     1.84G   0.03515   0.01642  0.008973        23       352: 100% 18/18 [00:02<00:00,  6.79it/s]\n",
            "               Class     Images     Labels          P          R     mAP@.5 mAP@.5:.95: 100% 3/3 [00:00<00:00,  3.59it/s]\n",
            "                 all        100        100      0.869      0.828       0.92      0.487\n",
            "\n",
            "     Epoch   gpu_mem       box       obj       cls    labels  img_size\n",
            "     76/99     1.84G   0.03485   0.01617  0.008034        20       352: 100% 18/18 [00:03<00:00,  6.00it/s]\n",
            "               Class     Images     Labels          P          R     mAP@.5 mAP@.5:.95: 100% 3/3 [00:01<00:00,  2.57it/s]\n",
            "                 all        100        100      0.898      0.934      0.959      0.543\n",
            "\n",
            "     Epoch   gpu_mem       box       obj       cls    labels  img_size\n",
            "     77/99     1.84G    0.0344   0.01611   0.00966        20       352: 100% 18/18 [00:03<00:00,  4.73it/s]\n",
            "               Class     Images     Labels          P          R     mAP@.5 mAP@.5:.95: 100% 3/3 [00:00<00:00,  3.61it/s]\n",
            "                 all        100        100      0.895      0.858      0.887      0.491\n",
            "\n",
            "     Epoch   gpu_mem       box       obj       cls    labels  img_size\n",
            "     78/99     1.84G   0.03435   0.01628  0.009545        18       352: 100% 18/18 [00:02<00:00,  6.57it/s]\n",
            "               Class     Images     Labels          P          R     mAP@.5 mAP@.5:.95: 100% 3/3 [00:00<00:00,  3.32it/s]\n",
            "                 all        100        100      0.947      0.917       0.97      0.548\n",
            "\n",
            "     Epoch   gpu_mem       box       obj       cls    labels  img_size\n",
            "     79/99     1.84G    0.0351    0.0174  0.008498        30       352: 100% 18/18 [00:02<00:00,  6.27it/s]\n",
            "               Class     Images     Labels          P          R     mAP@.5 mAP@.5:.95: 100% 3/3 [00:02<00:00,  1.30it/s]\n",
            "                 all        100        100      0.899      0.922      0.968      0.552\n",
            "\n",
            "     Epoch   gpu_mem       box       obj       cls    labels  img_size\n",
            "     80/99     1.84G   0.03442   0.01591  0.009022        24       352: 100% 18/18 [00:02<00:00,  6.48it/s]\n",
            "               Class     Images     Labels          P          R     mAP@.5 mAP@.5:.95: 100% 3/3 [00:00<00:00,  3.58it/s]\n",
            "                 all        100        100      0.923      0.888      0.949      0.542\n",
            "\n",
            "     Epoch   gpu_mem       box       obj       cls    labels  img_size\n",
            "     81/99     1.84G   0.03388    0.0164  0.008819        20       352: 100% 18/18 [00:02<00:00,  6.59it/s]\n",
            "               Class     Images     Labels          P          R     mAP@.5 mAP@.5:.95: 100% 3/3 [00:00<00:00,  3.47it/s]\n",
            "                 all        100        100       0.92      0.942      0.974      0.547\n",
            "\n",
            "     Epoch   gpu_mem       box       obj       cls    labels  img_size\n",
            "     82/99     1.84G   0.03464   0.01622   0.00829        24       352: 100% 18/18 [00:03<00:00,  5.45it/s]\n",
            "               Class     Images     Labels          P          R     mAP@.5 mAP@.5:.95: 100% 3/3 [00:01<00:00,  2.55it/s]\n",
            "                 all        100        100      0.885       0.92      0.967       0.56\n",
            "\n",
            "     Epoch   gpu_mem       box       obj       cls    labels  img_size\n",
            "     83/99     1.84G   0.03383   0.01596  0.008312        23       352: 100% 18/18 [00:03<00:00,  4.57it/s]\n",
            "               Class     Images     Labels          P          R     mAP@.5 mAP@.5:.95: 100% 3/3 [00:00<00:00,  3.26it/s]\n",
            "                 all        100        100      0.961       0.94      0.975      0.556\n",
            "\n",
            "     Epoch   gpu_mem       box       obj       cls    labels  img_size\n",
            "     84/99     1.84G   0.03388   0.01586  0.007906        21       352: 100% 18/18 [00:02<00:00,  6.31it/s]\n",
            "               Class     Images     Labels          P          R     mAP@.5 mAP@.5:.95: 100% 3/3 [00:00<00:00,  3.47it/s]\n",
            "                 all        100        100      0.965      0.948      0.979      0.555\n",
            "\n",
            "     Epoch   gpu_mem       box       obj       cls    labels  img_size\n",
            "     85/99     1.84G   0.03365    0.0171   0.00735        23       352: 100% 18/18 [00:02<00:00,  6.48it/s]\n",
            "               Class     Images     Labels          P          R     mAP@.5 mAP@.5:.95: 100% 3/3 [00:01<00:00,  2.69it/s]\n",
            "                 all        100        100      0.943      0.945      0.977      0.562\n",
            "\n",
            "     Epoch   gpu_mem       box       obj       cls    labels  img_size\n",
            "     86/99     1.84G   0.03376   0.01658  0.006589        24       352: 100% 18/18 [00:04<00:00,  4.48it/s]\n",
            "               Class     Images     Labels          P          R     mAP@.5 mAP@.5:.95: 100% 3/3 [00:00<00:00,  3.58it/s]\n",
            "                 all        100        100      0.972       0.95      0.986      0.584\n",
            "\n",
            "     Epoch   gpu_mem       box       obj       cls    labels  img_size\n",
            "     87/99     1.84G   0.03174    0.0159  0.007749        17       352: 100% 18/18 [00:02<00:00,  6.62it/s]\n",
            "               Class     Images     Labels          P          R     mAP@.5 mAP@.5:.95: 100% 3/3 [00:00<00:00,  3.58it/s]\n",
            "                 all        100        100      0.962      0.929      0.982      0.571\n",
            "\n",
            "     Epoch   gpu_mem       box       obj       cls    labels  img_size\n",
            "     88/99     1.84G   0.03348   0.01582    0.0078        19       352: 100% 18/18 [00:02<00:00,  6.53it/s]\n",
            "               Class     Images     Labels          P          R     mAP@.5 mAP@.5:.95: 100% 3/3 [00:00<00:00,  3.59it/s]\n",
            "                 all        100        100      0.934       0.92      0.969      0.573\n",
            "\n",
            "     Epoch   gpu_mem       box       obj       cls    labels  img_size\n",
            "     89/99     1.84G   0.03283   0.01507   0.00632        18       352: 100% 18/18 [00:04<00:00,  4.35it/s]\n",
            "               Class     Images     Labels          P          R     mAP@.5 mAP@.5:.95: 100% 3/3 [00:02<00:00,  1.39it/s]\n",
            "                 all        100        100      0.964      0.948      0.983      0.568\n",
            "\n",
            "     Epoch   gpu_mem       box       obj       cls    labels  img_size\n",
            "     90/99     1.84G   0.03228   0.01592   0.00672        23       352: 100% 18/18 [00:04<00:00,  3.64it/s]\n",
            "               Class     Images     Labels          P          R     mAP@.5 mAP@.5:.95: 100% 3/3 [00:00<00:00,  3.57it/s]\n",
            "                 all        100        100      0.928      0.946      0.981      0.566\n",
            "\n",
            "     Epoch   gpu_mem       box       obj       cls    labels  img_size\n",
            "     91/99     1.84G   0.03314   0.01533  0.008129        24       352: 100% 18/18 [00:03<00:00,  5.54it/s]\n",
            "               Class     Images     Labels          P          R     mAP@.5 mAP@.5:.95: 100% 3/3 [00:01<00:00,  2.51it/s]\n",
            "                 all        100        100      0.916      0.921      0.966      0.564\n",
            "\n",
            "     Epoch   gpu_mem       box       obj       cls    labels  img_size\n",
            "     92/99     1.84G   0.03273   0.01597  0.007879        22       352: 100% 18/18 [00:03<00:00,  4.89it/s]\n",
            "               Class     Images     Labels          P          R     mAP@.5 mAP@.5:.95: 100% 3/3 [00:00<00:00,  3.54it/s]\n",
            "                 all        100        100      0.949      0.956      0.983      0.578\n",
            "\n",
            "     Epoch   gpu_mem       box       obj       cls    labels  img_size\n",
            "     93/99     1.84G   0.03186    0.0165  0.007729        28       352: 100% 18/18 [00:03<00:00,  5.95it/s]\n",
            "               Class     Images     Labels          P          R     mAP@.5 mAP@.5:.95: 100% 3/3 [00:00<00:00,  3.55it/s]\n",
            "                 all        100        100       0.92      0.953      0.977      0.567\n",
            "\n",
            "     Epoch   gpu_mem       box       obj       cls    labels  img_size\n",
            "     94/99     1.84G   0.03369   0.01714  0.006656        32       352: 100% 18/18 [00:02<00:00,  6.52it/s]\n",
            "               Class     Images     Labels          P          R     mAP@.5 mAP@.5:.95: 100% 3/3 [00:01<00:00,  2.73it/s]\n",
            "                 all        100        100      0.949      0.927      0.979      0.563\n",
            "\n",
            "     Epoch   gpu_mem       box       obj       cls    labels  img_size\n",
            "     95/99     1.84G   0.03273   0.01554  0.006248        22       352: 100% 18/18 [00:04<00:00,  4.36it/s]\n",
            "               Class     Images     Labels          P          R     mAP@.5 mAP@.5:.95: 100% 3/3 [00:00<00:00,  3.34it/s]\n",
            "                 all        100        100      0.959      0.938      0.986      0.578\n",
            "\n",
            "     Epoch   gpu_mem       box       obj       cls    labels  img_size\n",
            "     96/99     1.84G   0.03259   0.01467  0.007535        19       352: 100% 18/18 [00:02<00:00,  6.15it/s]\n",
            "               Class     Images     Labels          P          R     mAP@.5 mAP@.5:.95: 100% 3/3 [00:00<00:00,  3.35it/s]\n",
            "                 all        100        100      0.969      0.947      0.985      0.571\n",
            "\n",
            "     Epoch   gpu_mem       box       obj       cls    labels  img_size\n",
            "     97/99     1.84G   0.03168   0.01483  0.005165        16       352: 100% 18/18 [00:03<00:00,  5.66it/s]\n",
            "               Class     Images     Labels          P          R     mAP@.5 mAP@.5:.95: 100% 3/3 [00:01<00:00,  2.79it/s]\n",
            "                 all        100        100      0.978      0.949      0.987      0.582\n",
            "\n",
            "     Epoch   gpu_mem       box       obj       cls    labels  img_size\n",
            "     98/99     1.84G   0.03104   0.01475  0.005824        23       352: 100% 18/18 [00:05<00:00,  3.59it/s]\n",
            "               Class     Images     Labels          P          R     mAP@.5 mAP@.5:.95: 100% 3/3 [00:01<00:00,  2.76it/s]\n",
            "                 all        100        100      0.968      0.963      0.988      0.596\n",
            "\n",
            "     Epoch   gpu_mem       box       obj       cls    labels  img_size\n",
            "     99/99     1.84G   0.03124   0.01576  0.006263        20       352: 100% 18/18 [00:02<00:00,  6.32it/s]\n",
            "               Class     Images     Labels          P          R     mAP@.5 mAP@.5:.95: 100% 3/3 [00:01<00:00,  1.71it/s]\n",
            "                 all        100        100      0.967       0.95      0.987      0.576\n",
            "\n",
            "100 epochs completed in 0.144 hours.\n",
            "Optimizer stripped from runs/train/yolov5s_results8/weights/last.pt, 14.8MB\n",
            "Optimizer stripped from runs/train/yolov5s_results8/weights/best.pt, 14.8MB\n",
            "\n",
            "Validating runs/train/yolov5s_results8/weights/best.pt...\n",
            "Fusing layers... \n",
            "custom_YOLOv5s summary: 232 layers, 7249215 parameters, 0 gradients, 16.7 GFLOPs\n",
            "               Class     Images     Labels          P          R     mAP@.5 mAP@.5:.95: 100% 3/3 [00:05<00:00,  1.95s/it]\n",
            "                 all        100        100      0.968      0.963      0.988      0.595\n",
            "       no_sleepiness        100         52      0.979      0.981      0.986      0.604\n",
            "          sleepiness        100         48      0.958      0.945      0.989      0.587\n",
            "Results saved to \u001b[1mruns/train/yolov5s_results8\u001b[0m\n",
            "\u001b[34m\u001b[1mwandb\u001b[0m:                                                                                \n",
            "\u001b[34m\u001b[1mwandb\u001b[0m: \n",
            "\u001b[34m\u001b[1mwandb\u001b[0m: Run history:\n",
            "\u001b[34m\u001b[1mwandb\u001b[0m:      metrics/mAP_0.5 ▁▁▁▁▁▁▂▁▂▄▃▄▅▄▂▆▆▆▅▇▇▇▆▇████████████████\n",
            "\u001b[34m\u001b[1mwandb\u001b[0m: metrics/mAP_0.5:0.95 ▁▁▁▁▁▁▂▁▂▃▂▃▃▂▂▄▄▅▅▆▆▆▅▇▇▇▇▇▇▇▇▇████████\n",
            "\u001b[34m\u001b[1mwandb\u001b[0m:    metrics/precision ▁▁▁▁▁▁▆▂▂▃▄▅▅▆▃▆▅▆▅▇▇▇▅▇▇▇▇▇█▇▇▇▇███████\n",
            "\u001b[34m\u001b[1mwandb\u001b[0m:       metrics/recall ▆▆▃▃▆▅▁▁▂▄▃▄▅▃▂▅▆▆▆▆▆▆▆▇▇▇▇▇▇███████████\n",
            "\u001b[34m\u001b[1mwandb\u001b[0m:       train/box_loss █▆▅▅▄▄▃▃▃▃▃▃▂▂▂▂▂▂▂▂▂▂▂▂▂▂▂▂▁▁▁▁▁▁▁▁▁▁▁▁\n",
            "\u001b[34m\u001b[1mwandb\u001b[0m:       train/cls_loss ███▇▇▇▇▇▆▆▆▆▅▅▅▄▄▄▄▄▃▃▃▂▃▃▂▂▂▂▂▂▂▂▁▂▂▁▁▁\n",
            "\u001b[34m\u001b[1mwandb\u001b[0m:       train/obj_loss ▄▆▆▇▇▇██▇▆▆▆▆▅▆▅▅▄▄▄▄▃▄▃▃▃▃▂▃▂▂▂▂▂▂▂▁▂▁▂\n",
            "\u001b[34m\u001b[1mwandb\u001b[0m:         val/box_loss ▆▅▇█▄▅▃▃▃▂▃▃▃▄▄▂▂▂▂▂▁▁▂▂▁▁▁▁▁▁▁▁▁▁▁▁▁▁▁▁\n",
            "\u001b[34m\u001b[1mwandb\u001b[0m:         val/cls_loss ▄▄▄█▄▄▃▄▃▃▃▂▂▂▄▂▂▂▂▂▂▂▂▁▁▂▁▁▁▁▁▁▁▁▁▁▁▁▁▁\n",
            "\u001b[34m\u001b[1mwandb\u001b[0m:         val/obj_loss ▅▅▄▃▅▅▆▇▇▅▄▄█▄▄▃▄▂▄▃▂▃▃▂▃▂▂▂▂▂▁▂▁▁▁▁▁▁▁▁\n",
            "\u001b[34m\u001b[1mwandb\u001b[0m:                x/lr0 █▅▂▂▂▂▂▂▂▂▂▂▂▂▂▂▁▁▁▁▁▁▁▁▁▁▁▁▁▁▁▁▁▁▁▁▁▁▁▁\n",
            "\u001b[34m\u001b[1mwandb\u001b[0m:                x/lr1 ▂▅████▇▇▇▇▇▆▆▆▆▆▅▅▅▅▅▄▄▄▄▄▃▃▃▃▃▃▂▂▂▂▂▁▁▁\n",
            "\u001b[34m\u001b[1mwandb\u001b[0m:                x/lr2 ▂▅████▇▇▇▇▇▆▆▆▆▆▅▅▅▅▅▄▄▄▄▄▃▃▃▃▃▃▂▂▂▂▂▁▁▁\n",
            "\u001b[34m\u001b[1mwandb\u001b[0m: \n",
            "\u001b[34m\u001b[1mwandb\u001b[0m: Run summary:\n",
            "\u001b[34m\u001b[1mwandb\u001b[0m:           best/epoch 98\n",
            "\u001b[34m\u001b[1mwandb\u001b[0m:         best/mAP_0.5 0.98755\n",
            "\u001b[34m\u001b[1mwandb\u001b[0m:    best/mAP_0.5:0.95 0.5955\n",
            "\u001b[34m\u001b[1mwandb\u001b[0m:       best/precision 0.96849\n",
            "\u001b[34m\u001b[1mwandb\u001b[0m:          best/recall 0.96266\n",
            "\u001b[34m\u001b[1mwandb\u001b[0m:      metrics/mAP_0.5 0.98755\n",
            "\u001b[34m\u001b[1mwandb\u001b[0m: metrics/mAP_0.5:0.95 0.59529\n",
            "\u001b[34m\u001b[1mwandb\u001b[0m:    metrics/precision 0.96849\n",
            "\u001b[34m\u001b[1mwandb\u001b[0m:       metrics/recall 0.96276\n",
            "\u001b[34m\u001b[1mwandb\u001b[0m:       train/box_loss 0.03124\n",
            "\u001b[34m\u001b[1mwandb\u001b[0m:       train/cls_loss 0.00626\n",
            "\u001b[34m\u001b[1mwandb\u001b[0m:       train/obj_loss 0.01576\n",
            "\u001b[34m\u001b[1mwandb\u001b[0m:         val/box_loss 0.01774\n",
            "\u001b[34m\u001b[1mwandb\u001b[0m:         val/cls_loss 0.0004\n",
            "\u001b[34m\u001b[1mwandb\u001b[0m:         val/obj_loss 0.00575\n",
            "\u001b[34m\u001b[1mwandb\u001b[0m:                x/lr0 0.0003\n",
            "\u001b[34m\u001b[1mwandb\u001b[0m:                x/lr1 0.0003\n",
            "\u001b[34m\u001b[1mwandb\u001b[0m:                x/lr2 0.0003\n",
            "\u001b[34m\u001b[1mwandb\u001b[0m: \n",
            "\u001b[34m\u001b[1mwandb\u001b[0m: 🚀 View run \u001b[33myolov5s_results\u001b[0m at: \u001b[34m\u001b[4mhttps://wandb.ai/sahinwu0114/YOLOv5/runs/iqohi3nb\u001b[0m\n",
            "\u001b[34m\u001b[1mwandb\u001b[0m: Synced 5 W&B file(s), 337 media file(s), 1 artifact file(s) and 0 other file(s)\n",
            "\u001b[34m\u001b[1mwandb\u001b[0m: Find logs at: \u001b[35m\u001b[1m./wandb/run-20231207_183533-iqohi3nb/logs\u001b[0m\n",
            "CPU times: user 7.46 s, sys: 851 ms, total: 8.31 s\n",
            "Wall time: 9min 26s\n"
          ]
        }
      ]
    },
    {
      "cell_type": "code",
      "source": [
        "!ls yolov5s_results7"
      ],
      "metadata": {
        "colab": {
          "base_uri": "https://localhost:8080/"
        },
        "id": "51ZbJHOFceMG",
        "outputId": "c25d6404-b958-47ac-d9d0-803ed17e4c9d"
      },
      "execution_count": null,
      "outputs": [
        {
          "output_type": "stream",
          "name": "stdout",
          "text": [
            "ls: cannot access 'yolov5s_results7': No such file or directory\n"
          ]
        }
      ]
    },
    {
      "cell_type": "code",
      "source": [
        "!ls /content/yolov5/runs/train/yolov5s_results8/weights/best.pt"
      ],
      "metadata": {
        "colab": {
          "base_uri": "https://localhost:8080/"
        },
        "id": "7NhebW5Shpyu",
        "outputId": "c6112375-a518-45b0-b849-b9fcd1c9dc84"
      },
      "execution_count": null,
      "outputs": [
        {
          "output_type": "stream",
          "name": "stdout",
          "text": [
            "/content/yolov5/runs/train/yolov5s_results8/weights/best.pt\n"
          ]
        }
      ]
    },
    {
      "cell_type": "code",
      "source": [
        "!python detect.py --source sleepiness.jpg --weights /content/yolov5/runs/train/yolov5s_results8/weights/best.pt"
      ],
      "metadata": {
        "id": "3SVYiEndKrb9",
        "colab": {
          "base_uri": "https://localhost:8080/"
        },
        "outputId": "acbddfd9-e2e2-4521-fb56-abcc123965ef"
      },
      "execution_count": null,
      "outputs": [
        {
          "output_type": "stream",
          "name": "stdout",
          "text": [
            "\u001b[34m\u001b[1mdetect: \u001b[0mweights=['/content/yolov5/runs/train/yolov5s_results8/weights/best.pt'], source=sleepiness.jpg, data=data/coco128.yaml, imgsz=[640, 640], conf_thres=0.25, iou_thres=0.45, max_det=1000, device=, view_img=False, save_txt=False, save_conf=False, save_crop=False, nosave=False, classes=None, agnostic_nms=False, augment=False, visualize=False, update=False, project=runs/detect, name=exp, exist_ok=False, line_thickness=3, hide_labels=False, hide_conf=False, half=False, dnn=False\n",
            "YOLOv5 🚀 v6.1-306-gfbe67e4 Python-3.10.12 torch-2.1.0+cu118 CUDA:0 (Tesla T4, 15102MiB)\n",
            "\n",
            "Fusing layers... \n",
            "custom_YOLOv5s summary: 232 layers, 7249215 parameters, 0 gradients, 16.7 GFLOPs\n",
            "image 1/1 /content/yolov5/sleepiness.jpg: 448x640 1 sleepiness, Done. (0.051s)\n",
            "Speed: 0.6ms pre-process, 50.6ms inference, 85.5ms NMS per image at shape (1, 3, 640, 640)\n",
            "Results saved to \u001b[1mruns/detect/exp11\u001b[0m\n"
          ]
        }
      ]
    },
    {
      "cell_type": "code",
      "source": [
        "!python detect.py --source no_sleepiness.jpg --weights /content/yolov5/runs/train/yolov5s_results8/weights/best.pt"
      ],
      "metadata": {
        "colab": {
          "base_uri": "https://localhost:8080/"
        },
        "id": "lo-aMIGtl6D_",
        "outputId": "f8745d45-614e-4c1e-cd84-c39bd9fcd17b"
      },
      "execution_count": null,
      "outputs": [
        {
          "output_type": "stream",
          "name": "stdout",
          "text": [
            "\u001b[34m\u001b[1mdetect: \u001b[0mweights=['/content/yolov5/runs/train/yolov5s_results8/weights/best.pt'], source=no_sleepiness.jpg, data=data/coco128.yaml, imgsz=[640, 640], conf_thres=0.25, iou_thres=0.45, max_det=1000, device=, view_img=False, save_txt=False, save_conf=False, save_crop=False, nosave=False, classes=None, agnostic_nms=False, augment=False, visualize=False, update=False, project=runs/detect, name=exp, exist_ok=False, line_thickness=3, hide_labels=False, hide_conf=False, half=False, dnn=False\n",
            "YOLOv5 🚀 v6.1-306-gfbe67e4 Python-3.10.12 torch-2.1.0+cu118 CUDA:0 (Tesla T4, 15102MiB)\n",
            "\n",
            "Fusing layers... \n",
            "custom_YOLOv5s summary: 232 layers, 7249215 parameters, 0 gradients, 16.7 GFLOPs\n",
            "image 1/1 /content/yolov5/no_sleepiness.jpg: 448x640 1 no_sleepiness, Done. (0.049s)\n",
            "Speed: 0.6ms pre-process, 49.0ms inference, 81.8ms NMS per image at shape (1, 3, 640, 640)\n",
            "Results saved to \u001b[1mruns/detect/exp7\u001b[0m\n"
          ]
        }
      ]
    }
  ]
}