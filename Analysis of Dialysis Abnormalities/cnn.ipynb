{
 "cells": [
  {
   "cell_type": "code",
   "execution_count": 1,
   "id": "b021cbc6",
   "metadata": {},
   "outputs": [],
   "source": [
    "import pandas as pd\n",
    "df_Y = pd.read_excel(\"C:/Users/User/Downloads/整理完成/整理完成/會掉血壓名單/10.xls\")\n",
    "df_Y = df_Y.drop(['PAT_NO','BED_NO','REC_DATE','ISALARM', 'AK_STATUS','ALERT_EDITNO','ALERT_EDITOR','ALERT_EDITTIME','REMARK',\n",
    "                  'OP_ID','VIP_IP','UDATE','DATA_TIME','FINISH_TIME','EDITOR_EMPNO','SERIALNUM','DEVICE_MODEL','CANCEL_FLAG',\n",
    "                  'SIMPLE','TOTAL_UF','ANTICOAGULANTS','EMRRECNO','CANCEL_USER'], axis=1)\n",
    "for i in range(1,9):\n",
    "    df_y = pd.read_excel(\"C:/Users/User/Downloads/整理完成/整理完成/會掉血壓名單/0\" + str(i) + \".xls\")\n",
    "    df_y = df_y.drop(['PAT_NO','BED_NO','REC_DATE','ISALARM', 'AK_STATUS','ALERT_EDITNO','ALERT_EDITOR','ALERT_EDITTIME','REMARK'\n",
    "                      ,'OP_ID','VIP_IP','UDATE','DATA_TIME','FINISH_TIME','EDITOR_EMPNO','SERIALNUM','DEVICE_MODEL','CANCEL_FLAG',\n",
    "                      'SIMPLE','TOTAL_UF','ANTICOAGULANTS','EMRRECNO','CANCEL_USER'], axis=1)\n",
    "    df_Y = df_Y.append(df_y)\n",
    "df_Y['label'] = 1.0"
   ]
  },
  {
   "cell_type": "code",
   "execution_count": 2,
   "id": "62f78271",
   "metadata": {},
   "outputs": [],
   "source": [
    "import pandas as pd\n",
    "df_N = pd.read_excel(\"C:/Users/User/Downloads/整理完成/整理完成/不會掉血壓名單/10.xls\")\n",
    "df_N = df_N.drop(['PAT_NO','BED_NO','REC_DATE','ISALARM', 'AK_STATUS','ALERT_EDITNO','ALERT_EDITOR','ALERT_EDITTIME','REMARK'\n",
    "                  ,'OP_ID','VIP_IP','UDATE','DATA_TIME','FINISH_TIME','EDITOR_EMPNO','SERIALNUM','DEVICE_MODEL','CANCEL_FLAG',\n",
    "                  'SIMPLE','TOTAL_UF','ANTICOAGULANTS','EMRRECNO','CANCEL_USER'], axis=1)\n",
    "for i in range(1,9):\n",
    "    df_n = pd.read_excel(\"C:/Users/User/Downloads/整理完成/整理完成/不會掉血壓名單/0\" + str(i) + \".xls\")\n",
    "    df_n = df_n.drop(['PAT_NO','BED_NO','REC_DATE','ISALARM', 'AK_STATUS','ALERT_EDITNO','ALERT_EDITOR','ALERT_EDITTIME','REMARK'\n",
    "                      ,'OP_ID','VIP_IP','UDATE','DATA_TIME','FINISH_TIME','EDITOR_EMPNO','SERIALNUM','DEVICE_MODEL','CANCEL_FLAG',\n",
    "                      'SIMPLE','TOTAL_UF','ANTICOAGULANTS','EMRRECNO','CANCEL_USER'], axis=1)\n",
    "    df_N = df_N.append(df_n)\n",
    "df_N['label'] = 0.0"
   ]
  },
  {
   "cell_type": "code",
   "execution_count": 3,
   "id": "cd186510",
   "metadata": {},
   "outputs": [
    {
     "data": {
      "text/html": [
       "<div>\n",
       "<style scoped>\n",
       "    .dataframe tbody tr th:only-of-type {\n",
       "        vertical-align: middle;\n",
       "    }\n",
       "\n",
       "    .dataframe tbody tr th {\n",
       "        vertical-align: top;\n",
       "    }\n",
       "\n",
       "    .dataframe thead th {\n",
       "        text-align: right;\n",
       "    }\n",
       "</style>\n",
       "<table border=\"1\" class=\"dataframe\">\n",
       "  <thead>\n",
       "    <tr style=\"text-align: right;\">\n",
       "      <th></th>\n",
       "      <th>BLOOD_FLOW</th>\n",
       "      <th>CONDUCTIVITY</th>\n",
       "      <th>VENOUS</th>\n",
       "      <th>DIALYSATE</th>\n",
       "      <th>TEMP</th>\n",
       "      <th>MAX_BLOOD</th>\n",
       "      <th>MIN_BLOOD</th>\n",
       "      <th>PULSE</th>\n",
       "      <th>NS</th>\n",
       "      <th>BLOOD_FUN</th>\n",
       "      <th>...</th>\n",
       "      <th>SYRINGE_FLOW</th>\n",
       "      <th>TMP</th>\n",
       "      <th>MANUAL_INPUT</th>\n",
       "      <th>TARGET_UF</th>\n",
       "      <th>UF</th>\n",
       "      <th>SYRINGE_FLOW_RATE</th>\n",
       "      <th>TIMES</th>\n",
       "      <th>DIA_FLOW</th>\n",
       "      <th>BREATH</th>\n",
       "      <th>label</th>\n",
       "    </tr>\n",
       "  </thead>\n",
       "  <tbody>\n",
       "    <tr>\n",
       "      <th>0</th>\n",
       "      <td>199.3</td>\n",
       "      <td>14.47</td>\n",
       "      <td>86.6</td>\n",
       "      <td>0.0</td>\n",
       "      <td>36.58</td>\n",
       "      <td>114.0</td>\n",
       "      <td>60.0</td>\n",
       "      <td>67.0</td>\n",
       "      <td>0.0</td>\n",
       "      <td>2.0</td>\n",
       "      <td>...</td>\n",
       "      <td>0.0</td>\n",
       "      <td>23.0</td>\n",
       "      <td>0.0</td>\n",
       "      <td>2.4</td>\n",
       "      <td>0.753</td>\n",
       "      <td>1.0</td>\n",
       "      <td>1.0</td>\n",
       "      <td>499.7</td>\n",
       "      <td>17.0</td>\n",
       "      <td>1.0</td>\n",
       "    </tr>\n",
       "    <tr>\n",
       "      <th>1</th>\n",
       "      <td>199.1</td>\n",
       "      <td>14.57</td>\n",
       "      <td>87.6</td>\n",
       "      <td>0.0</td>\n",
       "      <td>36.38</td>\n",
       "      <td>114.0</td>\n",
       "      <td>60.0</td>\n",
       "      <td>67.0</td>\n",
       "      <td>0.0</td>\n",
       "      <td>0.0</td>\n",
       "      <td>...</td>\n",
       "      <td>0.0</td>\n",
       "      <td>21.2</td>\n",
       "      <td>1.0</td>\n",
       "      <td>2.4</td>\n",
       "      <td>1.003</td>\n",
       "      <td>1.0</td>\n",
       "      <td>12.0</td>\n",
       "      <td>499.9</td>\n",
       "      <td>0.0</td>\n",
       "      <td>1.0</td>\n",
       "    </tr>\n",
       "    <tr>\n",
       "      <th>2</th>\n",
       "      <td>199.2</td>\n",
       "      <td>14.45</td>\n",
       "      <td>87.1</td>\n",
       "      <td>0.0</td>\n",
       "      <td>36.39</td>\n",
       "      <td>116.0</td>\n",
       "      <td>63.0</td>\n",
       "      <td>65.0</td>\n",
       "      <td>0.0</td>\n",
       "      <td>0.0</td>\n",
       "      <td>...</td>\n",
       "      <td>0.0</td>\n",
       "      <td>21.3</td>\n",
       "      <td>0.0</td>\n",
       "      <td>2.4</td>\n",
       "      <td>0.990</td>\n",
       "      <td>1.0</td>\n",
       "      <td>15.0</td>\n",
       "      <td>500.5</td>\n",
       "      <td>0.0</td>\n",
       "      <td>1.0</td>\n",
       "    </tr>\n",
       "    <tr>\n",
       "      <th>3</th>\n",
       "      <td>199.2</td>\n",
       "      <td>14.56</td>\n",
       "      <td>88.1</td>\n",
       "      <td>0.0</td>\n",
       "      <td>36.41</td>\n",
       "      <td>117.0</td>\n",
       "      <td>55.0</td>\n",
       "      <td>65.0</td>\n",
       "      <td>0.0</td>\n",
       "      <td>0.0</td>\n",
       "      <td>...</td>\n",
       "      <td>0.0</td>\n",
       "      <td>22.3</td>\n",
       "      <td>0.0</td>\n",
       "      <td>2.4</td>\n",
       "      <td>0.951</td>\n",
       "      <td>1.0</td>\n",
       "      <td>30.0</td>\n",
       "      <td>500.3</td>\n",
       "      <td>0.0</td>\n",
       "      <td>1.0</td>\n",
       "    </tr>\n",
       "    <tr>\n",
       "      <th>4</th>\n",
       "      <td>199.1</td>\n",
       "      <td>14.52</td>\n",
       "      <td>91.3</td>\n",
       "      <td>0.0</td>\n",
       "      <td>36.40</td>\n",
       "      <td>115.0</td>\n",
       "      <td>55.0</td>\n",
       "      <td>60.0</td>\n",
       "      <td>0.0</td>\n",
       "      <td>0.0</td>\n",
       "      <td>...</td>\n",
       "      <td>0.0</td>\n",
       "      <td>22.2</td>\n",
       "      <td>0.0</td>\n",
       "      <td>2.4</td>\n",
       "      <td>0.912</td>\n",
       "      <td>1.0</td>\n",
       "      <td>45.0</td>\n",
       "      <td>500.1</td>\n",
       "      <td>0.0</td>\n",
       "      <td>1.0</td>\n",
       "    </tr>\n",
       "    <tr>\n",
       "      <th>...</th>\n",
       "      <td>...</td>\n",
       "      <td>...</td>\n",
       "      <td>...</td>\n",
       "      <td>...</td>\n",
       "      <td>...</td>\n",
       "      <td>...</td>\n",
       "      <td>...</td>\n",
       "      <td>...</td>\n",
       "      <td>...</td>\n",
       "      <td>...</td>\n",
       "      <td>...</td>\n",
       "      <td>...</td>\n",
       "      <td>...</td>\n",
       "      <td>...</td>\n",
       "      <td>...</td>\n",
       "      <td>...</td>\n",
       "      <td>...</td>\n",
       "      <td>...</td>\n",
       "      <td>...</td>\n",
       "      <td>...</td>\n",
       "      <td>...</td>\n",
       "    </tr>\n",
       "    <tr>\n",
       "      <th>49887</th>\n",
       "      <td>268.0</td>\n",
       "      <td>14.00</td>\n",
       "      <td>160.0</td>\n",
       "      <td>0.0</td>\n",
       "      <td>37.30</td>\n",
       "      <td>147.0</td>\n",
       "      <td>75.0</td>\n",
       "      <td>64.0</td>\n",
       "      <td>0.0</td>\n",
       "      <td>0.0</td>\n",
       "      <td>...</td>\n",
       "      <td>0.0</td>\n",
       "      <td>76.0</td>\n",
       "      <td>0.0</td>\n",
       "      <td>2.2</td>\n",
       "      <td>0.000</td>\n",
       "      <td>1.0</td>\n",
       "      <td>237.0</td>\n",
       "      <td>467.0</td>\n",
       "      <td>0.0</td>\n",
       "      <td>0.0</td>\n",
       "    </tr>\n",
       "    <tr>\n",
       "      <th>49888</th>\n",
       "      <td>155.0</td>\n",
       "      <td>14.10</td>\n",
       "      <td>136.0</td>\n",
       "      <td>0.0</td>\n",
       "      <td>37.30</td>\n",
       "      <td>147.0</td>\n",
       "      <td>75.0</td>\n",
       "      <td>64.0</td>\n",
       "      <td>0.0</td>\n",
       "      <td>0.0</td>\n",
       "      <td>...</td>\n",
       "      <td>0.0</td>\n",
       "      <td>70.0</td>\n",
       "      <td>0.0</td>\n",
       "      <td>2.2</td>\n",
       "      <td>0.000</td>\n",
       "      <td>1.0</td>\n",
       "      <td>238.0</td>\n",
       "      <td>479.0</td>\n",
       "      <td>0.0</td>\n",
       "      <td>0.0</td>\n",
       "    </tr>\n",
       "    <tr>\n",
       "      <th>49889</th>\n",
       "      <td>0.0</td>\n",
       "      <td>14.10</td>\n",
       "      <td>127.0</td>\n",
       "      <td>0.0</td>\n",
       "      <td>37.30</td>\n",
       "      <td>147.0</td>\n",
       "      <td>75.0</td>\n",
       "      <td>64.0</td>\n",
       "      <td>0.0</td>\n",
       "      <td>0.0</td>\n",
       "      <td>...</td>\n",
       "      <td>0.0</td>\n",
       "      <td>81.0</td>\n",
       "      <td>0.0</td>\n",
       "      <td>2.2</td>\n",
       "      <td>0.000</td>\n",
       "      <td>1.0</td>\n",
       "      <td>238.0</td>\n",
       "      <td>479.0</td>\n",
       "      <td>0.0</td>\n",
       "      <td>0.0</td>\n",
       "    </tr>\n",
       "    <tr>\n",
       "      <th>49890</th>\n",
       "      <td>155.0</td>\n",
       "      <td>14.10</td>\n",
       "      <td>87.0</td>\n",
       "      <td>0.0</td>\n",
       "      <td>37.30</td>\n",
       "      <td>147.0</td>\n",
       "      <td>75.0</td>\n",
       "      <td>64.0</td>\n",
       "      <td>0.0</td>\n",
       "      <td>0.0</td>\n",
       "      <td>...</td>\n",
       "      <td>0.0</td>\n",
       "      <td>76.0</td>\n",
       "      <td>0.0</td>\n",
       "      <td>2.2</td>\n",
       "      <td>0.000</td>\n",
       "      <td>1.0</td>\n",
       "      <td>239.0</td>\n",
       "      <td>479.0</td>\n",
       "      <td>0.0</td>\n",
       "      <td>0.0</td>\n",
       "    </tr>\n",
       "    <tr>\n",
       "      <th>49891</th>\n",
       "      <td>0.0</td>\n",
       "      <td>10.90</td>\n",
       "      <td>3.0</td>\n",
       "      <td>0.0</td>\n",
       "      <td>37.50</td>\n",
       "      <td>168.0</td>\n",
       "      <td>91.0</td>\n",
       "      <td>65.0</td>\n",
       "      <td>0.0</td>\n",
       "      <td>2.0</td>\n",
       "      <td>...</td>\n",
       "      <td>0.0</td>\n",
       "      <td>105.0</td>\n",
       "      <td>0.0</td>\n",
       "      <td>2.2</td>\n",
       "      <td>0.000</td>\n",
       "      <td>1.0</td>\n",
       "      <td>240.0</td>\n",
       "      <td>178.0</td>\n",
       "      <td>15.0</td>\n",
       "      <td>0.0</td>\n",
       "    </tr>\n",
       "  </tbody>\n",
       "</table>\n",
       "<p>871905 rows × 22 columns</p>\n",
       "</div>"
      ],
      "text/plain": [
       "       BLOOD_FLOW  CONDUCTIVITY  VENOUS  DIALYSATE   TEMP  MAX_BLOOD  \\\n",
       "0           199.3         14.47    86.6        0.0  36.58      114.0   \n",
       "1           199.1         14.57    87.6        0.0  36.38      114.0   \n",
       "2           199.2         14.45    87.1        0.0  36.39      116.0   \n",
       "3           199.2         14.56    88.1        0.0  36.41      117.0   \n",
       "4           199.1         14.52    91.3        0.0  36.40      115.0   \n",
       "...           ...           ...     ...        ...    ...        ...   \n",
       "49887       268.0         14.00   160.0        0.0  37.30      147.0   \n",
       "49888       155.0         14.10   136.0        0.0  37.30      147.0   \n",
       "49889         0.0         14.10   127.0        0.0  37.30      147.0   \n",
       "49890       155.0         14.10    87.0        0.0  37.30      147.0   \n",
       "49891         0.0         10.90     3.0        0.0  37.50      168.0   \n",
       "\n",
       "       MIN_BLOOD  PULSE   NS  BLOOD_FUN  ...  SYRINGE_FLOW    TMP  \\\n",
       "0           60.0   67.0  0.0        2.0  ...           0.0   23.0   \n",
       "1           60.0   67.0  0.0        0.0  ...           0.0   21.2   \n",
       "2           63.0   65.0  0.0        0.0  ...           0.0   21.3   \n",
       "3           55.0   65.0  0.0        0.0  ...           0.0   22.3   \n",
       "4           55.0   60.0  0.0        0.0  ...           0.0   22.2   \n",
       "...          ...    ...  ...        ...  ...           ...    ...   \n",
       "49887       75.0   64.0  0.0        0.0  ...           0.0   76.0   \n",
       "49888       75.0   64.0  0.0        0.0  ...           0.0   70.0   \n",
       "49889       75.0   64.0  0.0        0.0  ...           0.0   81.0   \n",
       "49890       75.0   64.0  0.0        0.0  ...           0.0   76.0   \n",
       "49891       91.0   65.0  0.0        2.0  ...           0.0  105.0   \n",
       "\n",
       "       MANUAL_INPUT  TARGET_UF     UF  SYRINGE_FLOW_RATE  TIMES  DIA_FLOW  \\\n",
       "0               0.0        2.4  0.753                1.0    1.0     499.7   \n",
       "1               1.0        2.4  1.003                1.0   12.0     499.9   \n",
       "2               0.0        2.4  0.990                1.0   15.0     500.5   \n",
       "3               0.0        2.4  0.951                1.0   30.0     500.3   \n",
       "4               0.0        2.4  0.912                1.0   45.0     500.1   \n",
       "...             ...        ...    ...                ...    ...       ...   \n",
       "49887           0.0        2.2  0.000                1.0  237.0     467.0   \n",
       "49888           0.0        2.2  0.000                1.0  238.0     479.0   \n",
       "49889           0.0        2.2  0.000                1.0  238.0     479.0   \n",
       "49890           0.0        2.2  0.000                1.0  239.0     479.0   \n",
       "49891           0.0        2.2  0.000                1.0  240.0     178.0   \n",
       "\n",
       "       BREATH  label  \n",
       "0        17.0    1.0  \n",
       "1         0.0    1.0  \n",
       "2         0.0    1.0  \n",
       "3         0.0    1.0  \n",
       "4         0.0    1.0  \n",
       "...       ...    ...  \n",
       "49887     0.0    0.0  \n",
       "49888     0.0    0.0  \n",
       "49889     0.0    0.0  \n",
       "49890     0.0    0.0  \n",
       "49891    15.0    0.0  \n",
       "\n",
       "[871905 rows x 22 columns]"
      ]
     },
     "execution_count": 3,
     "metadata": {},
     "output_type": "execute_result"
    }
   ],
   "source": [
    "df_train = df_Y.append(df_N)\n",
    "df_train['MAX_BLOOD'] = pd.to_numeric(df_train['MAX_BLOOD'],'coerce')\n",
    "df_train['MIN_BLOOD'] = pd.to_numeric(df_train['MIN_BLOOD'],'coerce')\n",
    "df_train['PULSE'] = pd.to_numeric(df_train['PULSE'],'coerce')\n",
    "df_train = df_train.fillna(0)\n",
    "df_train"
   ]
  },
  {
   "cell_type": "code",
   "execution_count": 4,
   "id": "5becccbc",
   "metadata": {},
   "outputs": [],
   "source": [
    "from sklearn.preprocessing import MinMaxScaler\n",
    "\n",
    "sc = MinMaxScaler(feature_range = (0, 1))\n",
    "training_set_scaled = sc.fit_transform(df_train.values[:,:21])*255"
   ]
  },
  {
   "cell_type": "code",
   "execution_count": 5,
   "id": "a0f59802",
   "metadata": {},
   "outputs": [],
   "source": [
    "training_set_scaled = training_set_scaled.astype(int)"
   ]
  },
  {
   "cell_type": "code",
   "execution_count": 6,
   "id": "f1cc81a6",
   "metadata": {},
   "outputs": [],
   "source": [
    "from sklearn.model_selection import train_test_split\n",
    "x_train, x_test, y_train, y_test = train_test_split(training_set_scaled[:,:21], df_train.values[:,-1], \n",
    "                                                    test_size=0.2, random_state=0)"
   ]
  },
  {
   "cell_type": "code",
   "execution_count": 7,
   "id": "3626b548",
   "metadata": {},
   "outputs": [
    {
     "data": {
      "text/plain": [
       "697524"
      ]
     },
     "execution_count": 7,
     "metadata": {},
     "output_type": "execute_result"
    }
   ],
   "source": [
    "len(x_train)"
   ]
  },
  {
   "cell_type": "code",
   "execution_count": 8,
   "id": "468d0f7e",
   "metadata": {},
   "outputs": [
    {
     "data": {
      "text/plain": [
       "(697524,)"
      ]
     },
     "execution_count": 8,
     "metadata": {},
     "output_type": "execute_result"
    }
   ],
   "source": [
    "y_train.shape"
   ]
  },
  {
   "cell_type": "code",
   "execution_count": 9,
   "id": "d5039103",
   "metadata": {},
   "outputs": [
    {
     "data": {
      "text/plain": [
       "(697524, 21)"
      ]
     },
     "execution_count": 9,
     "metadata": {},
     "output_type": "execute_result"
    }
   ],
   "source": [
    "x_train.shape"
   ]
  },
  {
   "cell_type": "code",
   "execution_count": 10,
   "id": "2a7909aa",
   "metadata": {},
   "outputs": [
    {
     "data": {
      "text/plain": [
       "(174381, 21)"
      ]
     },
     "execution_count": 10,
     "metadata": {},
     "output_type": "execute_result"
    }
   ],
   "source": [
    "x_test.shape"
   ]
  },
  {
   "cell_type": "code",
   "execution_count": 11,
   "id": "bc0a87dc",
   "metadata": {},
   "outputs": [
    {
     "data": {
      "text/plain": [
       "(21,)"
      ]
     },
     "execution_count": 11,
     "metadata": {},
     "output_type": "execute_result"
    }
   ],
   "source": [
    "x_train[1].shape"
   ]
  },
  {
   "cell_type": "code",
   "execution_count": 12,
   "id": "16933376",
   "metadata": {},
   "outputs": [
    {
     "data": {
      "text/plain": [
       "1.0"
      ]
     },
     "execution_count": 12,
     "metadata": {},
     "output_type": "execute_result"
    }
   ],
   "source": [
    "y_test.max()"
   ]
  },
  {
   "cell_type": "code",
   "execution_count": 13,
   "id": "0e1d8b65",
   "metadata": {},
   "outputs": [
    {
     "data": {
      "text/plain": [
       "array([1., 0., 0., ..., 1., 1., 1.])"
      ]
     },
     "execution_count": 13,
     "metadata": {},
     "output_type": "execute_result"
    }
   ],
   "source": [
    "y_train"
   ]
  },
  {
   "cell_type": "code",
   "execution_count": 14,
   "id": "ba3a9f48",
   "metadata": {},
   "outputs": [],
   "source": [
    "x_train = x_train.reshape(697524,1,21,1)/255"
   ]
  },
  {
   "cell_type": "code",
   "execution_count": 15,
   "id": "45e27bd0",
   "metadata": {},
   "outputs": [
    {
     "data": {
      "text/plain": [
       "(697524, 1, 21, 1)"
      ]
     },
     "execution_count": 15,
     "metadata": {},
     "output_type": "execute_result"
    }
   ],
   "source": [
    "x_train.shape"
   ]
  },
  {
   "cell_type": "code",
   "execution_count": 16,
   "id": "508edf4a",
   "metadata": {},
   "outputs": [
    {
     "data": {
      "text/plain": [
       "(697524,)"
      ]
     },
     "execution_count": 16,
     "metadata": {},
     "output_type": "execute_result"
    }
   ],
   "source": [
    "y_train.shape"
   ]
  },
  {
   "cell_type": "code",
   "execution_count": 17,
   "id": "e03cb488",
   "metadata": {},
   "outputs": [
    {
     "data": {
      "text/plain": [
       "array([1., 0., 0., ..., 1., 1., 1.])"
      ]
     },
     "execution_count": 17,
     "metadata": {},
     "output_type": "execute_result"
    }
   ],
   "source": [
    "y_train"
   ]
  },
  {
   "cell_type": "code",
   "execution_count": 18,
   "id": "67e468ff",
   "metadata": {},
   "outputs": [
    {
     "name": "stdout",
     "output_type": "stream",
     "text": [
      "Model: \"sequential\"\n",
      "_________________________________________________________________\n",
      " Layer (type)                Output Shape              Param #   \n",
      "=================================================================\n",
      " conv2d (Conv2D)             (None, 1, 21, 32)         320       \n",
      "                                                                 \n",
      " max_pooling2d (MaxPooling2D  (None, 1, 21, 32)        0         \n",
      " )                                                               \n",
      "                                                                 \n",
      " conv2d_1 (Conv2D)           (None, 1, 21, 64)         18496     \n",
      "                                                                 \n",
      " max_pooling2d_1 (MaxPooling  (None, 1, 21, 64)        0         \n",
      " 2D)                                                             \n",
      "                                                                 \n",
      " conv2d_2 (Conv2D)           (None, 1, 21, 128)        73856     \n",
      "                                                                 \n",
      " max_pooling2d_2 (MaxPooling  (None, 1, 21, 128)       0         \n",
      " 2D)                                                             \n",
      "                                                                 \n",
      " flatten (Flatten)           (None, 2688)              0         \n",
      "                                                                 \n",
      " dense (Dense)               (None, 200)               537800    \n",
      "                                                                 \n",
      " dense_1 (Dense)             (None, 10)                2010      \n",
      "                                                                 \n",
      "=================================================================\n",
      "Total params: 632,482\n",
      "Trainable params: 632,482\n",
      "Non-trainable params: 0\n",
      "_________________________________________________________________\n",
      "Epoch 1/5\n",
      "6976/6976 [==============================] - 571s 82ms/step - loss: 0.4462 - accuracy: 0.5368\n",
      "Epoch 2/5\n",
      "6976/6976 [==============================] - 577s 83ms/step - loss: 0.4462 - accuracy: 0.5367\n",
      "Epoch 3/5\n",
      "6976/6976 [==============================] - 559s 80ms/step - loss: 0.4462 - accuracy: 0.5366\n",
      "Epoch 4/5\n",
      "6976/6976 [==============================] - 596s 85ms/step - loss: 0.4462 - accuracy: 0.5365\n",
      "Epoch 5/5\n",
      "6976/6976 [==============================] - 547s 78ms/step - loss: 0.4462 - accuracy: 0.5364\n"
     ]
    },
    {
     "data": {
      "text/plain": [
       "<keras.callbacks.History at 0x23997363fa0>"
      ]
     },
     "execution_count": 18,
     "metadata": {},
     "output_type": "execute_result"
    }
   ],
   "source": [
    "from keras.models import Sequential\n",
    "from keras.layers import Dense, Dropout, Flatten, Conv2D, MaxPooling2D\n",
    "from tensorflow.keras.optimizers import SGD\n",
    "\n",
    "model = Sequential()\n",
    "model.add(Conv2D(32, (3,3), padding='same', input_shape=(1,21,1), activation='relu'))\n",
    "model.add(MaxPooling2D(pool_size=(1,1)))\n",
    "model.add(Conv2D(64, (3,3), padding='same', activation='relu'))\n",
    "model.add(MaxPooling2D(pool_size=(1,1)))\n",
    "model.add(Conv2D(128, (3,3), padding='same', activation='relu'))\n",
    "model.add(MaxPooling2D(pool_size=(1,1)))\n",
    "model.add(Flatten())\n",
    "model.add(Dense(200, activation='relu'))\n",
    "model.add(Dense(10, activation='softmax'))\n",
    "model.compile(loss='mse', optimizer=SGD(learning_rate=0.0001), metrics=['accuracy'])\n",
    "model.summary()\n",
    "model.fit(x_train, y_train, batch_size=100, epochs=5)"
   ]
  },
  {
   "cell_type": "code",
   "execution_count": 19,
   "id": "f7227c43",
   "metadata": {},
   "outputs": [
    {
     "data": {
      "text/plain": [
       "(174381, 21)"
      ]
     },
     "execution_count": 19,
     "metadata": {},
     "output_type": "execute_result"
    }
   ],
   "source": [
    "x_test.shape"
   ]
  },
  {
   "cell_type": "code",
   "execution_count": 20,
   "id": "168f182f",
   "metadata": {},
   "outputs": [],
   "source": [
    "x_test = x_test.reshape(174381,1,21,1)/255"
   ]
  },
  {
   "cell_type": "code",
   "execution_count": 21,
   "id": "39578a7f",
   "metadata": {},
   "outputs": [
    {
     "name": "stdout",
     "output_type": "stream",
     "text": [
      "5450/5450 [==============================] - 15s 3ms/step - loss: 0.4474 - accuracy: 0.5379\n"
     ]
    }
   ],
   "source": [
    "score = model.evaluate(x_test, y_test)"
   ]
  },
  {
   "cell_type": "code",
   "execution_count": 22,
   "id": "9a3c73ef",
   "metadata": {},
   "outputs": [
    {
     "name": "stdout",
     "output_type": "stream",
     "text": [
      "1744/1744 [==============================] - 7s 4ms/step\n",
      "Confusion Matrix\n",
      "[[    0 78042   707   285]\n",
      " [    0 93799   910   638]\n",
      " [    0     0     0     0]\n",
      " [    0     0     0     0]]\n"
     ]
    },
    {
     "data": {
      "image/png": "[encoded data removed]",
      "text/plain": [
       "<Figure size 432x288 with 2 Axes>"
      ]
     },
     "metadata": {
      "needs_background": "light"
     },
     "output_type": "display_data"
    }
   ],
   "source": [
    "y_pred = model.predict(x_test, batch_size=100)\n",
    "from sklearn.metrics import confusion_matrix\n",
    "from sklearn.metrics import ConfusionMatrixDisplay\n",
    "print('Confusion Matrix')\n",
    "print(confusion_matrix(y_test,y_pred.argmax(axis=1)))\n",
    "cm = confusion_matrix(y_test,y_pred.argmax(axis=1))\n",
    "cm_display = ConfusionMatrixDisplay(cm).plot()\n"
   ]
  },
  {
   "cell_type": "code",
   "execution_count": 23,
   "id": "aec98820",
   "metadata": {},
   "outputs": [
    {
     "name": "stdout",
     "output_type": "stream",
     "text": [
      "Precision: 0.5378969039058155\n",
      "Recall: 0.5378969039058155\n",
      "F1: 0.5378969039058155\n"
     ]
    }
   ],
   "source": [
    "from sklearn.metrics import precision_score, recall_score, f1_score\n",
    "\n",
    "print('Precision:', precision_score(y_test,y_pred.argmax(axis=1), average='micro'))\n",
    "print('Recall:', recall_score(y_test,y_pred.argmax(axis=1), average='micro'))\n",
    "print('F1:', f1_score(y_test,y_pred.argmax(axis=1), average='micro'))"
   ]
  },
  {
   "cell_type": "code",
   "execution_count": null,
   "id": "a4fec258",
   "metadata": {},
   "outputs": [],
   "source": []
  }
 ],
 "metadata": {
  "kernelspec": {
   "display_name": "Python 3 (ipykernel)",
   "language": "python",
   "name": "python3"
  },
  "language_info": {
   "codemirror_mode": {
    "name": "ipython",
    "version": 3
   },
   "file_extension": ".py",
   "mimetype": "text/x-python",
   "name": "python",
   "nbconvert_exporter": "python",
   "pygments_lexer": "ipython3",
   "version": "3.9.7"
  }
 },
 "nbformat": 4,
 "nbformat_minor": 5
}
