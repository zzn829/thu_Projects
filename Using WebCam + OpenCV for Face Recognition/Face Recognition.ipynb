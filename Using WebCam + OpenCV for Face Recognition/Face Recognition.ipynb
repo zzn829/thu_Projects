{
 "cells": [
  {
   "cell_type": "code",
   "execution_count": 1,
   "id": "fcdeae60",
   "metadata": {},
   "outputs": [
    {
     "name": "stdout",
     "output_type": "stream",
     "text": [
      "Requirement already satisfied: opencv_contrib_python in c:\\users\\user\\anaconda3\\lib\\site-packages (4.6.0.66)\n",
      "Requirement already satisfied: numpy>=1.17.3 in c:\\users\\user\\anaconda3\\lib\\site-packages (from opencv_contrib_python) (1.22.3)\n",
      "Note: you may need to restart the kernel to use updated packages.\n"
     ]
    }
   ],
   "source": [
    "pip install opencv_contrib_python"
   ]
  },
  {
   "cell_type": "markdown",
   "id": "c16baba5",
   "metadata": {},
   "source": [
    "OpenCV 人臉偵測"
   ]
  },
  {
   "cell_type": "code",
   "execution_count": 2,
   "id": "39c28649",
   "metadata": {},
   "outputs": [],
   "source": [
    "import cv2\n",
    "\n",
    "img = cv2.imread('C:\\\\Users\\\\User\\\\Desktop\\\\face\\\\face1 (1).jpg')\n",
    "\n",
    " # 將圖片轉成灰階\n",
    "gray = cv2.cvtColor(img, cv2.COLOR_BGR2GRAY)  \n",
    "\n",
    "# 載入人臉模型\n",
    "face_cascade = cv2.CascadeClassifier(\"haarcascade_frontalface_default.xml\")   \n",
    "\n",
    " # 偵測人臉\n",
    "faces = face_cascade.detectMultiScale(gray)   \n",
    "\n",
    "# 利用 for 迴圈，抓取每個人臉屬性，繪製方框\n",
    "for (x, y, w, h) in faces:\n",
    "    cv2.rectangle(img, (x, y), (x+w, y+h), (0, 255, 0), 2)    \n",
    "\n",
    "cv2.imshow('oxxostudio', img)\n",
    "cv2.waitKey(0) # 按下任意鍵停止\n",
    "cv2.destroyAllWindows()\n"
   ]
  },
  {
   "cell_type": "markdown",
   "id": "ce7d801e",
   "metadata": {},
   "source": [
    "讀取並播放影片"
   ]
  },
  {
   "cell_type": "code",
   "execution_count": 13,
   "id": "6917bf60",
   "metadata": {},
   "outputs": [],
   "source": [
    "import cv2\n",
    "cap = cv2.VideoCapture(0, cv2.CAP_DSHOW)\n",
    "\n",
    "if not cap.isOpened():\n",
    "    print(\"Cannot open camera\")\n",
    "    exit()\n",
    "while True:\n",
    "    ret, frame = cap.read()             # 讀取影片的每一幀\n",
    "    if not ret:\n",
    "        print(\"Cannot receive frame\")   # 如果讀取錯誤，印出訊息\n",
    "        break\n",
    "    cv2.imshow('oxxostudio', frame)     # 如果讀取成功，顯示該幀的畫面\n",
    "    if cv2.waitKey(1) == ord('q'):      # 每一毫秒更新一次，直到按下 q 結束\n",
    "        break\n",
    "cap.release()                           # 所有作業都完成後，釋放資源\n",
    "cv2.destroyAllWindows()                 # 結束所有視窗\n"
   ]
  },
  {
   "cell_type": "markdown",
   "id": "17c6c7d4",
   "metadata": {},
   "source": [
    "搭配 cvtColor() 改變影片色彩"
   ]
  },
  {
   "cell_type": "code",
   "execution_count": 14,
   "id": "9869a8de",
   "metadata": {},
   "outputs": [],
   "source": [
    "import cv2\n",
    "cap = cv2.VideoCapture(0)\n",
    "if not cap.isOpened():\n",
    "    print(\"Cannot open camera\")\n",
    "    exit()\n",
    "while True:\n",
    "    ret, frame = cap.read()\n",
    "    if not ret:\n",
    "        print(\"Cannot receive frame\")\n",
    "        break\n",
    "    gray = cv2.cvtColor(frame, cv2.COLOR_BGR2GRAY)  # 轉換成灰階\n",
    "    # gray = cv2.cvtColor(frame, 6)  # 也可以用數字對照 6 表示轉換成灰階\n",
    "    cv2.imshow('oxxostudio', gray)\n",
    "    if cv2.waitKey(1) == ord('q'):\n",
    "        break\n",
    "cap.release()\n",
    "cv2.destroyAllWindows()"
   ]
  },
  {
   "cell_type": "markdown",
   "id": "a9ed6510",
   "metadata": {},
   "source": [
    "即時偵測影片中的人臉"
   ]
  },
  {
   "cell_type": "code",
   "execution_count": 15,
   "id": "828dacf7",
   "metadata": {},
   "outputs": [],
   "source": [
    "import cv2\n",
    "cap = cv2.VideoCapture(0)\n",
    "face_cascade = cv2.CascadeClassifier(\"haarcascade_frontalface_default.xml\")\n",
    "faces = face_cascade.detectMultiScale(gray)\n",
    "if not cap.isOpened():\n",
    "    print(\"Cannot open camera\")\n",
    "    exit()\n",
    "while True:\n",
    "    ret, frame = cap.read()\n",
    "    if not ret:\n",
    "        print(\"Cannot receive frame\")\n",
    "        break\n",
    "    frame = cv2.resize(frame,(540,320))              # 縮小尺寸，避免尺寸過大導致效能不好\n",
    "    gray = cv2.cvtColor(frame, cv2.COLOR_BGR2GRAY)   # 將鏡頭影像轉換成灰階\n",
    "    faces = face_cascade.detectMultiScale(gray)      # 偵測人臉\n",
    "    for (x, y, w, h) in faces:\n",
    "        cv2.rectangle(frame, (x, y), (x+w, y+h), (0, 255, 0), 2)   # 標記人臉\n",
    "    cv2.imshow('oxxostudio', frame)\n",
    "    if cv2.waitKey(1) == ord('q'):\n",
    "        break\n",
    "cap.release()\n",
    "cv2.destroyAllWindows()"
   ]
  },
  {
   "cell_type": "markdown",
   "id": "454c0f2c",
   "metadata": {},
   "source": [
    "OpenCV 辨識不同人臉"
   ]
  },
  {
   "cell_type": "code",
   "execution_count": 2,
   "id": "614e5ff4",
   "metadata": {},
   "outputs": [],
   "source": [
    "import cv2\n",
    "import numpy as np\n",
    "\n",
    "# 載入人臉追蹤模型\n",
    "detector = cv2.CascadeClassifier(\"haarcascade_frontalface_default.xml\")  \n",
    "\n",
    "#detector = cv2.CascadeClassifier('xml/haarcascade_frontalface_default.xml') \n",
    "# 啟用訓練人臉模型方法\n",
    "recog = cv2.face.LBPHFaceRecognizer_create()\n",
    "# 儲存人臉位置大小的串列\n",
    "faces = []\n",
    "# 記錄該人臉 id 的串列\n",
    "ids = []     "
   ]
  },
  {
   "cell_type": "code",
   "execution_count": 3,
   "id": "37aa76e1",
   "metadata": {},
   "outputs": [],
   "source": [
    "#擷取Irene照片\n",
    "    \n",
    "for i in range(1,27): \n",
    "    \n",
    "    img = cv2.imread(f'C:\\\\Users\\\\User\\\\Desktop\\\\face\\\\face1 ({i}).jpg')   # 依序讀取每一張Irene的照片\n",
    "    \n",
    "    gray = cv2.cvtColor(img, cv2.COLOR_BGR2GRAY) # 色彩轉換成黑白\n",
    "    \n",
    "    img_np = np.array(gray,'uint8')   # 轉換成指定編碼的 numpy 陣列\n",
    "    \n",
    "    face = detector.detectMultiScale(gray)  # 擷取人臉區域\n",
    "     \n",
    "    for(x,y,w,h) in face:\n",
    "        \n",
    "        faces.append(img_np[y:y+h,x:x+w])   # 記錄Irene人臉的位置和大小內像素的數值\n",
    "        \n",
    "        ids.append(1)      # 記錄Irene人臉對應的id(只能是整數)，設Irene的 id 為 1                       "
   ]
  },
  {
   "cell_type": "code",
   "execution_count": 4,
   "id": "f7cbe270",
   "metadata": {},
   "outputs": [
    {
     "data": {
      "text/plain": [
       "(900, 600, 3)"
      ]
     },
     "execution_count": 4,
     "metadata": {},
     "output_type": "execute_result"
    }
   ],
   "source": [
    "img.shape"
   ]
  },
  {
   "cell_type": "code",
   "execution_count": 6,
   "id": "8c79fb2c",
   "metadata": {},
   "outputs": [],
   "source": [
    "#擷取Sehun 照片\n",
    "\n",
    "for i in range(1,25):\n",
    "     # 依序開啟每一張Sehun的照片\n",
    "    img = cv2.imread(f\"C:\\\\Users\\\\User\\\\Desktop\\\\face\\\\face2 ({i}).jpg\")    \n",
    "    # 色彩轉換成黑白\n",
    "    gray = cv2.cvtColor(img, cv2.COLOR_BGR2GRAY)  \n",
    "    # 轉換成指定編碼的 numpy 陣列\n",
    "    img_np = np.array(gray,'uint8')      \n",
    "    # 擷取人臉區域\n",
    "    face = detector.detectMultiScale(gray)     \n",
    "     \n",
    "    for(x,y,w,h) in face:\n",
    "        # 記錄Sehun人臉的位置和大小內像素的數值\n",
    "        faces.append(img_np[y:y+h,x:x+w])   \n",
    "        # 記錄Sehun人臉對應的 id(只能是整數)，設Sehun的 id 為 2\n",
    "        ids.append(2)            "
   ]
  },
  {
   "cell_type": "code",
   "execution_count": 7,
   "id": "3a9eea87",
   "metadata": {},
   "outputs": [
    {
     "data": {
      "text/plain": [
       "(625, 1000, 3)"
      ]
     },
     "execution_count": 7,
     "metadata": {},
     "output_type": "execute_result"
    }
   ],
   "source": [
    "img.shape"
   ]
  },
  {
   "cell_type": "code",
   "execution_count": 8,
   "id": "694f07f4",
   "metadata": {},
   "outputs": [],
   "source": [
    "#擷取Kimmin_hee 照片\n",
    "\n",
    "for i in range(1,25):\n",
    "     # 依序開啟每一張Kimmin_hee的照片\n",
    "    img = cv2.imread(f\"C:\\\\Users\\\\User\\\\Desktop\\\\face\\\\face3 ({i}).jpg\")    \n",
    "    # 色彩轉換成黑白\n",
    "    gray = cv2.cvtColor(img, cv2.COLOR_BGR2GRAY)  \n",
    "    # 轉換成指定編碼的 numpy 陣列\n",
    "    img_np = np.array(gray,'uint8')      \n",
    "    # 擷取人臉區域\n",
    "    face = detector.detectMultiScale(gray)     \n",
    "     \n",
    "    for(x,y,w,h) in face:\n",
    "        # 記錄Kimmin_hee人臉的位置和大小內像素的數值\n",
    "        faces.append(img_np[y:y+h,x:x+w])   \n",
    "        # 記錄Kimmin_hee人臉對應的 id(只能是整數)，設Kimmin_hee的 id 為 3\n",
    "        ids.append(3)      "
   ]
  },
  {
   "cell_type": "code",
   "execution_count": 9,
   "id": "681ae975",
   "metadata": {},
   "outputs": [
    {
     "data": {
      "text/plain": [
       "(1593, 858, 3)"
      ]
     },
     "execution_count": 9,
     "metadata": {},
     "output_type": "execute_result"
    }
   ],
   "source": [
    "img.shape"
   ]
  },
  {
   "cell_type": "code",
   "execution_count": 10,
   "id": "57decdef",
   "metadata": {},
   "outputs": [
    {
     "name": "stdout",
     "output_type": "stream",
     "text": [
      "start training...\n",
      "ok~\n"
     ]
    }
   ],
   "source": [
    "print('start training...')   \n",
    "recog.train(faces,np.array(ids))  \n",
    "recog.save('face.yml')     # 訓練完成儲存為 face.yml\n",
    "print('ok~')"
   ]
  },
  {
   "cell_type": "code",
   "execution_count": 11,
   "id": "4e9b6a2e",
   "metadata": {},
   "outputs": [],
   "source": [
    "import cv2\n",
    "\n",
    "recognizer = cv2.face.LBPHFaceRecognizer_create() # 啟用訓練人臉模型方法\n",
    "\n",
    "recognizer.read('face.yml')         # 讀取人臉模型檔\n",
    "\n",
    "cascade_path = \"haarcascade_frontalface_default.xml\" # 載入人臉追蹤模型\n",
    "\n",
    "face_cascade = cv2.CascadeClassifier(\"haarcascade_frontalface_default.xml\")     # 啟用人臉追蹤        "
   ]
  },
  {
   "cell_type": "code",
   "execution_count": 12,
   "id": "4e92a88a",
   "metadata": {},
   "outputs": [],
   "source": [
    "cap = cv2.VideoCapture(0, cv2.CAP_DSHOW)   # 讀取攝影鏡頭\n",
    "\n",
    "if not cap.isOpened():          #若攝影機無法打開，告知並結束\n",
    "    print(\"Cannot open camera!\")\n",
    "    exit()\n",
    "    \n",
    "while True:\n",
    "    ret, img = cap.read()  # 讀取影片的每一幀\n",
    "    \n",
    "    if not ret:            # 如果讀取錯誤，印出訊息\n",
    "        print(\"Cannot receive frame!\")\n",
    "        break\n",
    "               \n",
    "    img = cv2.resize(img, (540,350))   # 縮小尺寸以加快辨識效率\n",
    "    \n",
    "    gray = cv2.cvtColor(img, cv2.COLOR_BGR2GRAY) # 轉換成黑白\n",
    "    \n",
    "    faces = face_cascade.detectMultiScale(gray)  # 追蹤人臉 (標記出外框 )\n",
    "   \n",
    "    name = {                     # 建立姓名和 id 的對照表\n",
    "        '1':'Irene',\n",
    "        '2':'Sehun',\n",
    "        '3':'Kimmin_hee'\n",
    "    }\n",
    "  \n",
    "    for(x,y,w,h) in faces:    # 依序判斷每張臉屬於哪個 id\n",
    "        \n",
    "        cv2.rectangle(img,(x,y),(x+w,y+h),(0,255,0),2)  # 標記人臉外框\n",
    "        \n",
    "        idnum,confidence = recognizer.predict(gray[y:y+h,x:x+w])  # 取出 id 號碼以及信心指數\n",
    "           \n",
    "        if confidence < 60:         # 如果信心指數小於 60，取得對應的名字\n",
    "            text = name[str(idnum)]                               \n",
    "        else:\n",
    "            text = '???'            # 不然名字就是 ???                                  \n",
    "       \n",
    "        cv2.putText(img, text, (x,y-5),cv2.FONT_HERSHEY_SIMPLEX, 1, (0,255,0), 2, cv2.LINE_AA)    # 在人臉外框旁加上名字\n",
    "            \n",
    "    cv2.imshow('frame', img)      #開啟視窗\n",
    "    if cv2.waitKey(5) == ord('q'):     # 按下 q 鍵停止\n",
    "        break    \n",
    "        \n",
    "cap.release()              # 所有作業都完成後，釋放資源\n",
    "cv2.destroyAllWindows()    # 結束所有視窗"
   ]
  }
 ],
 "metadata": {
  "kernelspec": {
   "display_name": "Python 3 (ipykernel)",
   "language": "python",
   "name": "python3"
  },
  "language_info": {
   "codemirror_mode": {
    "name": "ipython",
    "version": 3
   },
   "file_extension": ".py",
   "mimetype": "text/x-python",
   "name": "python",
   "nbconvert_exporter": "python",
   "pygments_lexer": "ipython3",
   "version": "3.9.7"
  }
 },
 "nbformat": 4,
 "nbformat_minor": 5
}
